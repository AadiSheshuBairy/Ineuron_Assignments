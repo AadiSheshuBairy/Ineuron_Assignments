{
 "cells": [
  {
   "cell_type": "code",
   "execution_count": null,
   "id": "64c603cd",
   "metadata": {},
   "outputs": [],
   "source": [
    "'''1. Create a zoo.py file first. Define the hours() function, which prints the string 'Open 9-5 daily'.\n",
    "Then, use the interactive interpreter to import the zoo module and call its hours() function.'''\n",
    "\n",
    "import zoo\n",
    "zoo.hours()"
   ]
  },
  {
   "cell_type": "code",
   "execution_count": null,
   "id": "8e512f17",
   "metadata": {},
   "outputs": [],
   "source": [
    "#2. In the interactive interpreter, import the zoo module as menagerie and call its hours() function.\n",
    "\n",
    "import zoo as menagerie\n",
    "\n",
    "menagerie.hours()"
   ]
  },
  {
   "cell_type": "code",
   "execution_count": null,
   "id": "0dbd3e03",
   "metadata": {},
   "outputs": [],
   "source": [
    "#3. Using the interpreter, explicitly import and call the hours() function from zoo.\n",
    "\n",
    "from zoo import hours\n",
    "\n",
    "hours()"
   ]
  },
  {
   "cell_type": "code",
   "execution_count": null,
   "id": "9740e61a",
   "metadata": {},
   "outputs": [],
   "source": [
    "#4. Import the hours() function as info and call it.\n",
    "\n",
    "from zoo import hours as info\n",
    "\n",
    "info()"
   ]
  },
  {
   "cell_type": "code",
   "execution_count": null,
   "id": "a932b4af",
   "metadata": {},
   "outputs": [],
   "source": [
    "#5. Create a plain dictionary with the key-value pairs 'a': 1, 'b': 2, and 'c': 3, and print it out.\n",
    "\n",
    "d = {'a': 1, 'b': 2,'c': 3}\n",
    "\n",
    "d"
   ]
  },
  {
   "cell_type": "code",
   "execution_count": null,
   "id": "28ead665",
   "metadata": {},
   "outputs": [],
   "source": [
    "'''6.Make an OrderedDict called fancy from the same pairs listed in 5 and print it.\n",
    "Did it print in the same order as plain?'''\n",
    "\n",
    "from collections import OrderedDict\n",
    "\n",
    "OD = OrderedDict(d)\n",
    "\n",
    "print(OD)"
   ]
  },
  {
   "cell_type": "code",
   "execution_count": null,
   "id": "f52c3a9e",
   "metadata": {},
   "outputs": [],
   "source": [
    "'''7. Make a default dictionary called dict_of_lists and pass it the argument list. \n",
    "Make the list dict_of_lists['a'] and append the value 'something for a' to it in one assignment. Print dict_of_lists['a'].\n",
    "from collections import defaultdict'''\n",
    "\n",
    "dict_of_lists = defaultdict(list)\n",
    "dict_of_lists['a'].append('something for a')\n",
    "print(dict_of_lists['a'])"
   ]
  },
  {
   "cell_type": "code",
   "execution_count": null,
   "id": "de782333",
   "metadata": {},
   "outputs": [],
   "source": []
  }
 ],
 "metadata": {
  "kernelspec": {
   "display_name": "Python 3 (ipykernel)",
   "language": "python",
   "name": "python3"
  },
  "language_info": {
   "codemirror_mode": {
    "name": "ipython",
    "version": 3
   },
   "file_extension": ".py",
   "mimetype": "text/x-python",
   "name": "python",
   "nbconvert_exporter": "python",
   "pygments_lexer": "ipython3",
   "version": "3.9.7"
  }
 },
 "nbformat": 4,
 "nbformat_minor": 5
}
