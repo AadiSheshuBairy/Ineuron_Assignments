{
 "cells": [
  {
   "cell_type": "code",
   "execution_count": 1,
   "id": "a69109d3",
   "metadata": {},
   "outputs": [],
   "source": [
    "'''1. Make a class called Thing with no contents and print it. \n",
    "Then, create an object called example from this class and also print it. Are the printed values the same or different?'''\n",
    "\n",
    "class thing:\n",
    "    pass"
   ]
  },
  {
   "cell_type": "code",
   "execution_count": 2,
   "id": "98841565",
   "metadata": {},
   "outputs": [],
   "source": [
    "class example(thing):\n",
    "    pass"
   ]
  },
  {
   "cell_type": "code",
   "execution_count": 3,
   "id": "f5b5c9fa",
   "metadata": {},
   "outputs": [
    {
     "data": {
      "text/plain": [
       "__main__.example"
      ]
     },
     "execution_count": 3,
     "metadata": {},
     "output_type": "execute_result"
    }
   ],
   "source": [
    "example"
   ]
  },
  {
   "cell_type": "code",
   "execution_count": 4,
   "id": "357b38e9",
   "metadata": {},
   "outputs": [
    {
     "data": {
      "text/plain": [
       "__main__.thing"
      ]
     },
     "execution_count": 4,
     "metadata": {},
     "output_type": "execute_result"
    }
   ],
   "source": [
    "thing"
   ]
  },
  {
   "cell_type": "code",
   "execution_count": 5,
   "id": "d465c91a",
   "metadata": {},
   "outputs": [
    {
     "data": {
      "text/plain": [
       "'abc'"
      ]
     },
     "execution_count": 5,
     "metadata": {},
     "output_type": "execute_result"
    }
   ],
   "source": [
    "#2. Create a new class called Thing2 and add the value 'abc' to the letters class attribute. Letters should be printed.\n",
    "\n",
    "class thing2:\n",
    "    letters = 'abc'\n",
    "thing2.letters"
   ]
  },
  {
   "cell_type": "code",
   "execution_count": 6,
   "id": "91cd02b8",
   "metadata": {},
   "outputs": [
    {
     "data": {
      "text/plain": [
       "'xyz'"
      ]
     },
     "execution_count": 6,
     "metadata": {},
     "output_type": "execute_result"
    }
   ],
   "source": [
    "'''3. Make yet another class called, of course, Thing3. \n",
    "This time, assign the value 'xyz' to an instance (object) attribute called letters. Print letters.\n",
    "Do you need to make an object from the class to do this?'''\n",
    "\n",
    "class things3:\n",
    "    letters = 'xyz'\n",
    "things3.letters"
   ]
  },
  {
   "cell_type": "code",
   "execution_count": 7,
   "id": "4a9afca3",
   "metadata": {},
   "outputs": [
    {
     "name": "stdout",
     "output_type": "stream",
     "text": [
      "\n",
      " name: hydrogen \n",
      " symbol: H \n",
      " number: 1\n",
      "<__main__.element object at 0x000001F16476D5E0>\n"
     ]
    }
   ],
   "source": [
    "'''4. Create an Element class with the instance attributes name, symbol, and number.\n",
    "Create a class object with the values 'Hydrogen,' 'H,' and 1.'''\n",
    "\n",
    "class element:\n",
    "    def __init__(self,name,symbol,number):\n",
    "        self.name = name\n",
    "        self.symbol = symbol\n",
    "        self.number = number\n",
    "        print(\"\\n name: {} \\n symbol: {} \\n number: {}\".format(self.name,self.symbol,self.number))\n",
    "    \n",
    "    \n",
    "ele = element('hydrogen', 'H', 1)\n",
    "print(ele)"
   ]
  },
  {
   "cell_type": "code",
   "execution_count": 10,
   "id": "7c29b5d6",
   "metadata": {},
   "outputs": [
    {
     "name": "stdout",
     "output_type": "stream",
     "text": [
      "\n",
      " name: Hydrogen \n",
      " symbol: H \n",
      " number: 1\n",
      "<__main__.element object at 0x000001F16476DF70>\n"
     ]
    }
   ],
   "source": [
    "'''5. Make a dictionary with these keys and values: 'name': 'Hydrogen', 'symbol': 'H', 'number': 1.\n",
    "Then, create an object called hydrogen from class Element using this dictionary.\n",
    "ele_dict = {'name': 'Hydrogen', 'symbol': 'H', 'number': 1}'''\n",
    "\n",
    "ele_dict = {'name': 'Hydrogen', 'symbol': 'H', 'number': 1}\n",
    "\n",
    "hydrogen = element(**ele_dict) #single * gives key, ** gives values\n",
    "print(hydrogen)"
   ]
  },
  {
   "cell_type": "code",
   "execution_count": 12,
   "id": "77849cd9",
   "metadata": {},
   "outputs": [
    {
     "name": "stdout",
     "output_type": "stream",
     "text": [
      "hydrogen H 1\n"
     ]
    }
   ],
   "source": [
    "'''6. For the Element class, define a method called dump() that \n",
    "prints the values of the object’s attributes (name, symbol, and number). \n",
    "Create the hydrogen object from this new definition and use dump() to print its attributes.'''\n",
    "\n",
    "class element:\n",
    "    def __init__(self,name,symbol,number):\n",
    "        self.name = name\n",
    "        self.symbol = symbol\n",
    "        self.number = number\n",
    "    \n",
    "    def dump(self):\n",
    "        print(self.name,self.symbol,self.number)\n",
    "                \n",
    "hydrogen = element('hydrogen', 'H', 1)\n",
    "hydrogen.dump()"
   ]
  },
  {
   "cell_type": "code",
   "execution_count": 13,
   "id": "6d8b3017",
   "metadata": {},
   "outputs": [
    {
     "name": "stdout",
     "output_type": "stream",
     "text": [
      "\n",
      " name: hydrogen \n",
      " symbol: H \n",
      " number: 1\n"
     ]
    }
   ],
   "source": [
    "'''7. Call print(hydrogen). In the definition of Element, change the name of method dump to str,\n",
    "create a new hydrogen object, and call print(hydrogen) again.'''\n",
    "\n",
    "class element:\n",
    "    def __init__(self,name,symbol,number):\n",
    "        self.name = name\n",
    "        self.symbol = symbol\n",
    "        self.number = number\n",
    "        \n",
    "    \n",
    "    def __str__(self):\n",
    "        return \"\\n name: {} \\n symbol: {} \\n number: {}\".format(self.name,self.symbol,self.number)\n",
    "\n",
    "hydrogen = element('hydrogen', 'H', 1)\n",
    "print(hydrogen)"
   ]
  },
  {
   "cell_type": "code",
   "execution_count": 14,
   "id": "3d04fede",
   "metadata": {},
   "outputs": [
    {
     "name": "stdout",
     "output_type": "stream",
     "text": [
      "Aadi\n",
      "Goud\n",
      "09\n"
     ]
    }
   ],
   "source": [
    "'''8. Modify Element to make the attributes name, symbol, and number private.\n",
    "Define a getter property for each to return its value.'''\n",
    "\n",
    "class element:\n",
    "    def __init__(self,name,symbol,number):\n",
    "        self.name = name\n",
    "        self.symbol = symbol\n",
    "        self.number = number\n",
    "    \n",
    "    def name(self):\n",
    "        return self.__name\n",
    "    \n",
    "    def symbol(self):\n",
    "        return self.__symbol\n",
    "    \n",
    "    def number(self):\n",
    "        return self.__number\n",
    "\n",
    "ele = element(\"Aadi\",\"Goud\", '09')\n",
    "\n",
    "print(ele.name+\"\\n\"+ele.symbol+\"\\n\"+ele.number )"
   ]
  },
  {
   "cell_type": "code",
   "execution_count": 18,
   "id": "26e380a1",
   "metadata": {},
   "outputs": [],
   "source": [
    "'''9. Define three classes: Bear, Rabbit, and Octothorpe. For each, define only one method: eats(). \n",
    "This should return 'berries' (Bear), 'clover' (Rabbit), or 'campers' (Octothorpe). \n",
    "Create one object from each and print what it eats.'''\n",
    "\n",
    "class rabbit:\n",
    "    def eat(self):\n",
    "        return \"clover\"\n",
    "\n",
    "class octothorpe:\n",
    "    def eat(self):\n",
    "        return \"campers\""
   ]
  },
  {
   "cell_type": "code",
   "execution_count": null,
   "id": "728613cc",
   "metadata": {},
   "outputs": [],
   "source": [
    "b = bear()\n",
    "r = rabbit()\n",
    "o = octothorpe()\n",
    "\n",
    "print(b.eat())\n",
    "print(r.eat())\n",
    "print(o.eat())\n"
   ]
  },
  {
   "cell_type": "code",
   "execution_count": 20,
   "id": "8fdec5da",
   "metadata": {},
   "outputs": [
    {
     "name": "stdout",
     "output_type": "stream",
     "text": [
      "disintegrate crush ring\n"
     ]
    }
   ],
   "source": [
    "'''10. Define these classes: Laser, Claw, and SmartPhone. Each has only one method: does().\n",
    "This returns 'disintegrate' (Laser), 'crush' (Claw), or 'ring' (SmartPhone). \n",
    "Then, define the class Robot that has one instance (object) of each of these. \n",
    "Define a does() method for the Robot that prints what its component objects do.'''\n",
    "\n",
    "class laser:\n",
    "    def does(self):\n",
    "        return \"disintegrate\"\n",
    "    \n",
    "class claw:\n",
    "    def does(self):\n",
    "        return \"crush\"\n",
    "    \n",
    "class smartphone:\n",
    "    def does(self):\n",
    "        return \"ring\"\n",
    "    \n",
    "class robot:\n",
    "    def __init__(self, laser, claw, smartphone):\n",
    "        self.laser = laser\n",
    "        self.claw = claw\n",
    "        self.smartphone = smartphone\n",
    "    \n",
    "    def does(self):\n",
    "        print(self.laser.does(),self.claw.does(), self.smartphone.does())\n",
    "        \n",
    "l = laser()\n",
    "c = claw()\n",
    "s = smartphone()\n",
    "robot = robot(l,c,s)\n",
    "robot.does()"
   ]
  },
  {
   "cell_type": "code",
   "execution_count": null,
   "id": "3cc550c9",
   "metadata": {},
   "outputs": [],
   "source": []
  }
 ],
 "metadata": {
  "kernelspec": {
   "display_name": "Python 3 (ipykernel)",
   "language": "python",
   "name": "python3"
  },
  "language_info": {
   "codemirror_mode": {
    "name": "ipython",
    "version": 3
   },
   "file_extension": ".py",
   "mimetype": "text/x-python",
   "name": "python",
   "nbconvert_exporter": "python",
   "pygments_lexer": "ipython3",
   "version": "3.9.7"
  }
 },
 "nbformat": 4,
 "nbformat_minor": 5
}
