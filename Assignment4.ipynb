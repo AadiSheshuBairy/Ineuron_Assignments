{
 "cells": [
  {
   "cell_type": "code",
   "execution_count": null,
   "id": "83923856",
   "metadata": {},
   "outputs": [],
   "source": [
    "#1. What exactly is []?\n",
    "'''\n",
    "In programming, [] is used to represent an empty list.\n",
    "A list is an ordered collection of items that can be of different types (e.g., integers, strings, etc.). \n",
    "Lists are represented by enclosing a comma-separated sequence of items in square brackets []\n",
    "'''\n",
    "empty_list = []"
   ]
  },
  {
   "cell_type": "code",
   "execution_count": 2,
   "id": "9bdf3f5d",
   "metadata": {},
   "outputs": [
    {
     "name": "stdout",
     "output_type": "stream",
     "text": [
      "[2, 4, 'hello', 8, 10]\n"
     ]
    }
   ],
   "source": [
    "#2. In a list of values stored in a variable called spam, how would you assign the value 'hello' as the third value? (Assume [2, 4, 6, 8, 10] are in spam.)\n",
    "'''\n",
    "To assign the value 'hello' as the third value in a list stored in a variable called spam, \n",
    "you can use the assignment operator = and the indexing operator [].\n",
    "\n",
    "In Python, you can use the indexing operator [] to access and assign values to specific elements in a list.\n",
    "The index of the first element in a list is 0, the index of the second element is 1, and so on.\n",
    "'''\n",
    "spam = [2, 4, 6, 8, 10]\n",
    "spam[2] = 'hello'\n",
    "print(spam)"
   ]
  },
  {
   "cell_type": "code",
   "execution_count": null,
   "id": "c4fa29e9",
   "metadata": {},
   "outputs": [],
   "source": [
    "#3. What is the value of spam[int(int('3' * 2) / 11)]\n",
    "'''\n",
    "The value of spam[int(int('3' * 2) / 11)] depends on the content of the list spam and the value of the expression int(int('3' * 2) / 11).\n",
    "\n",
    "The expression '3' * 2 is equivalent to '33', which is a string containing the characters '3' repeated twice. \n",
    "The expression int('33') converts this string to the integer 33. \n",
    "The expression int(int('3' * 2) / 11) then divides this integer by 11 and takes the integer result, which is 3.\n",
    "\n",
    "Therefore, the expression spam[int(int('3' * 2) / 11)] is equivalent to spam[3],\n",
    "which means it retrieves the fourth element in the list spam. If spam is a list containing five elements,\n",
    "for example [1, 2, 3, 4, 5], then the value of spam[3] would be 4.\n",
    "\n",
    "If spam is a different list with a different number of elements,\n",
    "or if the expression int(int('3' * 2) / 11) evaluates to a different value,\n",
    "then the value of spam[int(int('3' * 2) / 11)] will be different.\n",
    "'''"
   ]
  },
  {
   "cell_type": "code",
   "execution_count": 3,
   "id": "6056439d",
   "metadata": {},
   "outputs": [
    {
     "data": {
      "text/plain": [
       "10"
      ]
     },
     "execution_count": 3,
     "metadata": {},
     "output_type": "execute_result"
    }
   ],
   "source": [
    "#4. What is the value of spam[-1]?\n",
    "spam[-1]"
   ]
  },
  {
   "cell_type": "code",
   "execution_count": 4,
   "id": "bf7ff29f",
   "metadata": {},
   "outputs": [
    {
     "data": {
      "text/plain": [
       "[2, 4]"
      ]
     },
     "execution_count": 4,
     "metadata": {},
     "output_type": "execute_result"
    }
   ],
   "source": [
    "#5. What is the value of spam[:2]?\n",
    "spam[:2]"
   ]
  },
  {
   "cell_type": "code",
   "execution_count": 5,
   "id": "d42af3f9",
   "metadata": {},
   "outputs": [
    {
     "data": {
      "text/plain": [
       "1"
      ]
     },
     "execution_count": 5,
     "metadata": {},
     "output_type": "execute_result"
    }
   ],
   "source": [
    "'''\n",
    "Let's pretend bacon has the list [3.14, 'cat,' 11, 'cat,' True] for the next three questions.\n",
    "6. What is the value of bacon.index('cat')?\n",
    "'''\n",
    "bacon = [3.14, 'cat', 11, 'cat', True]\n",
    "bacon.index('cat')"
   ]
  },
  {
   "cell_type": "code",
   "execution_count": 6,
   "id": "a9fdfe77",
   "metadata": {},
   "outputs": [
    {
     "name": "stdout",
     "output_type": "stream",
     "text": [
      "[3.14, 'cat', 11, 'cat', True, 99]\n"
     ]
    }
   ],
   "source": [
    "#7. How does bacon.append(99) change the look of the list value in bacon?\n",
    "bacon.append(99)\n",
    "print(bacon)"
   ]
  },
  {
   "cell_type": "code",
   "execution_count": 7,
   "id": "4a494b04",
   "metadata": {},
   "outputs": [
    {
     "name": "stdout",
     "output_type": "stream",
     "text": [
      "[3.14, 11, 'cat', True, 99]\n"
     ]
    }
   ],
   "source": [
    "#8. How does bacon.remove('cat') change the look of the list in bacon?\n",
    "bacon.remove('cat')\n",
    "print(bacon)"
   ]
  },
  {
   "cell_type": "code",
   "execution_count": 8,
   "id": "d8adf413",
   "metadata": {},
   "outputs": [
    {
     "name": "stdout",
     "output_type": "stream",
     "text": [
      "[1, 2, 3, 4, 5, 6]\n",
      "[1, 2, 3, 1, 2, 3, 1, 2, 3]\n"
     ]
    }
   ],
   "source": [
    "#9. What are the list concatenation and list replication operators?\n",
    "'''\n",
    "In Python, the list concatenation operator is +, and the list replication operator is *.\n",
    "\n",
    "The list concatenation operator + combines two lists and returns a new list that contains all the elements from both lists. \n",
    "'''\n",
    "list1 = [1, 2, 3]\n",
    "list2 = [4, 5, 6]\n",
    "\n",
    "result = list1 + list2\n",
    "print(result)  # Output: [1, 2, 3, 4, 5, 6]\n",
    "\n",
    "'''\n",
    "The list replication operator * creates a new list by repeating a given list a certain number of times\n",
    "'''\n",
    "list1 = [1, 2, 3]\n",
    "\n",
    "result = list1 * 3\n",
    "print(result)  # Output: [1, 2, 3, 1, 2, 3, 1, 2, 3]\n"
   ]
  },
  {
   "cell_type": "code",
   "execution_count": 9,
   "id": "ef282fe1",
   "metadata": {},
   "outputs": [
    {
     "name": "stdout",
     "output_type": "stream",
     "text": [
      "[1, 2, 3, 4]\n",
      "[1, 4, 2, 3]\n"
     ]
    }
   ],
   "source": [
    "#10. What is difference between the list methods append() and insert()\n",
    "'''\n",
    "In Python, the append() and insert() methods are used to add elements to a list. However, they have some differences in how they work.\n",
    "\n",
    "The append() method adds an element to the end of a list. It takes a single argument, which is the element to be added.\n",
    "'''\n",
    "my_list = [1, 2, 3]\n",
    "my_list.append(4)\n",
    "print(my_list)  # Output: [1, 2, 3, 4]\n",
    "\n",
    "'''\n",
    "The insert() method, on the other hand, allows you to add an element at a specific position in the list.\n",
    "It takes two arguments: the index at which the element should be inserted, and the element itself. \n",
    "'''\n",
    "\n",
    "my_list = [1, 2, 3]\n",
    "my_list.insert(1, 4)\n",
    "print(my_list)  # Output: [1, 4, 2, 3]\n"
   ]
  },
  {
   "cell_type": "code",
   "execution_count": 10,
   "id": "91b86bdb",
   "metadata": {},
   "outputs": [
    {
     "name": "stdout",
     "output_type": "stream",
     "text": [
      "[1, 3, 4, 2, 5]\n",
      "[1, 2, 4, 5]\n",
      "3\n"
     ]
    }
   ],
   "source": [
    "#11. What are the two methods for removing items from a list?\n",
    "'''\n",
    "n Python, there are two main methods for removing items from a list: remove() and pop().\n",
    "\n",
    "The remove() method removes the first occurrence of a specified element from the list. \n",
    "It takes a single argument, which is the element to be removed. If the element is not found in the list, a ValueError is raised.\n",
    "'''\n",
    "my_list = [1, 2, 3, 4, 2, 5]\n",
    "my_list.remove(2)\n",
    "print(my_list)  # Output: [1, 3, 4, 2, 5]\n",
    "\n",
    "'''\n",
    "The pop() method removes the element at a specified index from the list and returns the removed element. \n",
    "It takes an optional argument, which is the index of the element to be removed. If no index is specified,\n",
    "the pop() method removes and returns the last element of the list. If the index is out of range, an IndexError is raised\n",
    "'''\n",
    "my_list = [1, 2, 3, 4, 5]\n",
    "x = my_list.pop(2)\n",
    "print(my_list)  # Output: [1, 2, 4, 5]\n",
    "print(x)  # Output: 3"
   ]
  },
  {
   "cell_type": "code",
   "execution_count": 11,
   "id": "1c12ce8f",
   "metadata": {},
   "outputs": [
    {
     "data": {
      "text/plain": [
       "['a', 'b', 'c']"
      ]
     },
     "execution_count": 11,
     "metadata": {},
     "output_type": "execute_result"
    }
   ],
   "source": [
    "#12. Describe how list values and string values are identical.\n",
    "'''\n",
    "In Python, list values and string values are similar in that they both represent ordered collections of items.\n",
    "\n",
    "A string is a sequence of characters, and a list is a sequence of elements, \n",
    "which can be of any type (e.g., integers, strings, etc.). Both strings and lists are ordered,\n",
    "meaning that the items they contain have a specific position or index.\n",
    "'''\n",
    "'h'  # index 0\n",
    "'e'  # index 1\n",
    "'l'  # index 2\n",
    "'l'  # index 3\n",
    "'o'  # index 4\n",
    "\n",
    "'''\n",
    "Similarly, a list can be thought of as a string containing the string representation of its elements:\n",
    "'''\n",
    "[1, 2, 3]  # \"1,2,3\"\n",
    "['a', 'b', 'c']  # \"a,b,c\"\n"
   ]
  },
  {
   "cell_type": "code",
   "execution_count": 12,
   "id": "cb3b8bd5",
   "metadata": {},
   "outputs": [
    {
     "name": "stdout",
     "output_type": "stream",
     "text": [
      "'tuple' object does not support item assignment\n",
      "[1, 4, 3]\n"
     ]
    }
   ],
   "source": [
    "#13. What's the difference between tuples and lists?\n",
    "'''\n",
    "In Python, tuples and lists are both types of sequence data structures that store a collection of items. \n",
    "However, there are some differences between them.\n",
    "\n",
    "One of the main differences is that tuples are immutable, \n",
    "meaning that their values cannot be modified after they are created. Lists, on the other hand, are mutable, \n",
    "meaning that their values can be changed by adding, removing, or modifying elements.\n",
    "'''\n",
    "# Tuple\n",
    "my_tuple = (1, 2, 3)\n",
    "try:\n",
    "    my_tuple[1] = 4\n",
    "except TypeError as e:\n",
    "    print(e)  # Output: 'tuple' object does not support item assignment\n",
    "\n",
    "# List\n",
    "my_list = [1, 2, 3]\n",
    "my_list[1] = 4\n",
    "print(my_list)  # Output: [1, 4, 3]\n"
   ]
  },
  {
   "cell_type": "code",
   "execution_count": null,
   "id": "3214c9ef",
   "metadata": {},
   "outputs": [],
   "source": [
    "#14. How do you type a tuple value that only contains the integer 42?\n",
    "'''\n",
    "To create a tuple that only contains the integer 42, \n",
    "you can enclose the value in parentheses () and separate it from any other values with a comma ,\n",
    "'''\n",
    "my_tuple = (42,)\n",
    "my_tuple = tuple(42)"
   ]
  },
  {
   "cell_type": "code",
   "execution_count": 14,
   "id": "e6613a68",
   "metadata": {},
   "outputs": [
    {
     "name": "stdout",
     "output_type": "stream",
     "text": [
      "(1, 2, 3)\n",
      "[1, 2, 3]\n"
     ]
    }
   ],
   "source": [
    "#15. How do you get a list value's tuple form? How do you get a tuple value's list form?\n",
    "'''\n",
    "To get the tuple form of a list value in Python, you can use the tuple() function,\n",
    "which takes a single argument and returns a tuple with the same elements as the input list.\n",
    "'''\n",
    "my_list = [1, 2, 3]\n",
    "my_tuple = tuple(my_list)\n",
    "print(my_tuple)  # Output: (1, 2, 3)\n",
    "\n",
    "'''\n",
    "To get the list form of a tuple value, you can use the list() function, \n",
    "which takes a single argument and returns a list with the same elements as the input tuple.\n",
    "'''\n",
    "my_tuple = (1, 2, 3)\n",
    "my_list = list(my_tuple)\n",
    "print(my_list)  # Output: [1, 2, 3]"
   ]
  },
  {
   "cell_type": "code",
   "execution_count": 15,
   "id": "35ca8ef1",
   "metadata": {},
   "outputs": [
    {
     "name": "stdout",
     "output_type": "stream",
     "text": [
      "[1, 4, 3]\n"
     ]
    }
   ],
   "source": [
    "#16. Variables that \"contain\" list values are not necessarily lists themselves. Instead, what do they contain?\n",
    "'''\n",
    "In Python, variables that \"contain\" list values are not necessarily lists themselves. \n",
    "Instead, they contain references to list objects.\n",
    "\n",
    "A reference is a value that points to the location in memory where an object is stored. \n",
    "When you create a list and assign it to a variable, the variable does not actually contain the list itself, \n",
    "but a reference to the list object.\n",
    "'''\n",
    "my_list = [1, 2, 3]\n",
    "another_list = my_list\n",
    "\n",
    "another_list[1] = 4\n",
    "print(my_list)  # Output: [1, 4, 3]\n"
   ]
  },
  {
   "cell_type": "code",
   "execution_count": 16,
   "id": "d94e3823",
   "metadata": {},
   "outputs": [
    {
     "name": "stdout",
     "output_type": "stream",
     "text": [
      "[1, 2, [3, 4]]\n",
      "[1, 2, [3, 4]]\n",
      "[1, 2, [5, 4]]\n",
      "[1, 2, [5, 4]]\n"
     ]
    }
   ],
   "source": [
    "#17. How do you distinguish between copy.copy() and copy.deepcopy()?\n",
    "'''\n",
    "In Python, the copy module provides two functions for creating copies of objects: copy() and deepcopy(). \n",
    "These functions can be used to create copies of lists, dictionaries, and other complex objects.\n",
    "\n",
    "The copy() function creates a shallow copy of an object. \n",
    "A shallow copy is a new object with a new reference to the same elements as the original object. \n",
    "If the original object contains references to other objects, the shallow copy will still contain references to the \n",
    "same objects as the original.\n",
    "'''\n",
    "\n",
    "import copy\n",
    "\n",
    "original = [1, 2, [3, 4]]\n",
    "shallow_copy = copy.copy(original)\n",
    "print(original)  # Output: [1, 2, [3, 4]]\n",
    "print(shallow_copy)  # Output: [1, 2, [3, 4]]\n",
    "\n",
    "# Modify the original list\n",
    "original[2][0] = 5\n",
    "print(original)  # Output: [1, 2, [5, 4]]\n",
    "print(shallow_copy)  # Output: [1, 2, [5, 4]]\n"
   ]
  },
  {
   "cell_type": "code",
   "execution_count": null,
   "id": "840b5c29",
   "metadata": {},
   "outputs": [],
   "source": []
  }
 ],
 "metadata": {
  "kernelspec": {
   "display_name": "Python 3 (ipykernel)",
   "language": "python",
   "name": "python3"
  },
  "language_info": {
   "codemirror_mode": {
    "name": "ipython",
    "version": 3
   },
   "file_extension": ".py",
   "mimetype": "text/x-python",
   "name": "python",
   "nbconvert_exporter": "python",
   "pygments_lexer": "ipython3",
   "version": "3.9.7"
  }
 },
 "nbformat": 4,
 "nbformat_minor": 5
}
