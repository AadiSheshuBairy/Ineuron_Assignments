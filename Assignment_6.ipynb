{
 "cells": [
  {
   "cell_type": "code",
   "execution_count": 1,
   "id": "730a6242",
   "metadata": {},
   "outputs": [
    {
     "name": "stdout",
     "output_type": "stream",
     "text": [
      "hi my name is \t Aadi\n"
     ]
    }
   ],
   "source": [
    "'''1. What are escape characters, and how do you use them?\n",
    "Backslash \" \\ \" is a special character used to represent certain whitespace character like \\n, \\t, \\r'''\n",
    "print(\"hi my name is \\t Aadi\")"
   ]
  },
  {
   "cell_type": "code",
   "execution_count": null,
   "id": "607a2ddb",
   "metadata": {},
   "outputs": [],
   "source": [
    "#2. What do the escape characters n and t stand for?\n",
    "\n",
    "\\n == new line\n",
    "\n",
    "\\t == tab"
   ]
  },
  {
   "cell_type": "code",
   "execution_count": null,
   "id": "820d3be7",
   "metadata": {},
   "outputs": [],
   "source": [
    "#3. What is the way to include backslash characters in a string?\n",
    "Ans : we can use \\ \\ ."
   ]
  },
  {
   "cell_type": "code",
   "execution_count": 2,
   "id": "fab4e5c7",
   "metadata": {},
   "outputs": [
    {
     "name": "stdout",
     "output_type": "stream",
     "text": [
      "Object `problem` not found.\n",
      "Howl's Moving Castle\n"
     ]
    }
   ],
   "source": [
    "4. The string \"Howl's Moving Castle\" is a correct value. Why isn't the single quote character in the word Howl's not escaped a problem?\n",
    "print(\"Howl's Moving Castle\") #because of double quotes."
   ]
  },
  {
   "cell_type": "code",
   "execution_count": 3,
   "id": "744ba88a",
   "metadata": {},
   "outputs": [
    {
     "name": "stdout",
     "output_type": "stream",
     "text": [
      "Object `character` not found.\n",
      "hello\n",
      "World\n"
     ]
    }
   ],
   "source": [
    "5. How do you write a string of newlines if you don't want to use the n character?\n",
    "print(\"hello\", end = \"\\n\")\n",
    "print(\"World\")"
   ]
  },
  {
   "cell_type": "code",
   "execution_count": 4,
   "id": "d278ab23",
   "metadata": {},
   "outputs": [
    {
     "name": "stdout",
     "output_type": "stream",
     "text": [
      "Object `expressions` not found.\n"
     ]
    },
    {
     "data": {
      "text/plain": [
       "'lo, world!'"
      ]
     },
     "execution_count": 4,
     "metadata": {},
     "output_type": "execute_result"
    }
   ],
   "source": [
    "6. What are the values of the given expressions?\n",
    "'Hello, world!'[1]\n",
    "'e'\n",
    "'Hello, world!'[0:5]\n",
    "'Hello'\n",
    "'Hello, world!'[:5]\n",
    "'Hello'\n",
    "'Hello, world!'[3:]"
   ]
  },
  {
   "cell_type": "code",
   "execution_count": 5,
   "id": "2a8a6c44",
   "metadata": {},
   "outputs": [
    {
     "name": "stdout",
     "output_type": "stream",
     "text": [
      "Object `expressions` not found.\n",
      "HELLO\n",
      "True\n",
      "hello\n"
     ]
    }
   ],
   "source": [
    "7. What are the values of the following expressions?\n",
    "'Hello'.upper()\n",
    "\n",
    "'Hello'.upper().isupper()\n",
    "\n",
    "'Hello'.upper().lower()\n",
    "'hello'\n",
    "print('Hello'.upper())\n",
    "print('Hello'.upper().isupper())\n",
    "print('Hello'.upper().lower())\n"
   ]
  },
  {
   "cell_type": "code",
   "execution_count": 7,
   "id": "970e6627",
   "metadata": {},
   "outputs": [
    {
     "data": {
      "text/plain": [
       "'There-can-only-one.'"
      ]
     },
     "execution_count": 7,
     "metadata": {},
     "output_type": "execute_result"
    }
   ],
   "source": [
    "'''8. What are the values of the following expressions?\n",
    "'Remember, remember, the fifth of July.'.split()\n",
    "'-'.join('There can only one.'.split()\n",
    "'Remember, remember, the fifth of July.'.split()\n",
    "['Remember,', 'remember,', 'the', 'fifth', 'of', 'July.']'''\n",
    "'-'.join('There can only one.'.split())"
   ]
  },
  {
   "cell_type": "code",
   "execution_count": null,
   "id": "04dce052",
   "metadata": {},
   "outputs": [],
   "source": [
    "9. What are the methods for right-justifying, left-justifying, and centering a string?\n",
    "rjust()\n",
    "\n",
    "ljust()\n",
    "\n",
    "center()"
   ]
  },
  {
   "cell_type": "code",
   "execution_count": 8,
   "id": "dc834e1c",
   "metadata": {},
   "outputs": [
    {
     "name": "stdout",
     "output_type": "stream",
     "text": [
      "Object `end` not found.\n"
     ]
    },
    {
     "data": {
      "text/plain": [
       "'helloworld'"
      ]
     },
     "execution_count": 8,
     "metadata": {},
     "output_type": "execute_result"
    }
   ],
   "source": [
    "10. What is the best way to remove whitespace characters from the start or end?\n",
    "string = \"hello world\"\n",
    "string.replace(\" \",\"\")"
   ]
  },
  {
   "cell_type": "code",
   "execution_count": null,
   "id": "0f0e968a",
   "metadata": {},
   "outputs": [],
   "source": []
  }
 ],
 "metadata": {
  "kernelspec": {
   "display_name": "Python 3 (ipykernel)",
   "language": "python",
   "name": "python3"
  },
  "language_info": {
   "codemirror_mode": {
    "name": "ipython",
    "version": 3
   },
   "file_extension": ".py",
   "mimetype": "text/x-python",
   "name": "python",
   "nbconvert_exporter": "python",
   "pygments_lexer": "ipython3",
   "version": "3.9.7"
  }
 },
 "nbformat": 4,
 "nbformat_minor": 5
}
