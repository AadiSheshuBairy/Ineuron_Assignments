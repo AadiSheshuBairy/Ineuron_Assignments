{
 "cells": [
  {
   "cell_type": "markdown",
   "id": "afbfb4b9",
   "metadata": {},
   "source": [
    "# 1. In the below elements which of them are values or an expression?"
   ]
  },
  {
   "cell_type": "code",
   "execution_count": null,
   "id": "63d4106a",
   "metadata": {},
   "outputs": [],
   "source": [
    "'''ans:\n",
    "\n",
    "* -       is an expression because it is a mathematical operator (multiplication operator).\n",
    "\n",
    "'hello' - is a value, which is string.\n",
    "\n",
    "-87.8 -   is a value , which is float.\n",
    "\n",
    "-        is an expression because it is a mathematical operator (subtraction operator).\n",
    "\n",
    "/ -      is an expression because it is a mathematical operator (Division operator). \n",
    "\n",
    "+ -      is an expression because it is a mathematical operator (Addition operator). \n",
    "\n",
    "6 -      is a value, which is integer.'''"
   ]
  },
  {
   "cell_type": "markdown",
   "id": "14ebc6ba",
   "metadata": {},
   "source": [
    "# 2. What is the difference between string and variable?"
   ]
  },
  {
   "cell_type": "code",
   "execution_count": null,
   "id": "96b32453",
   "metadata": {},
   "outputs": [],
   "source": [
    "'''2. What is the difference between string and variable?\n",
    "\n",
    "ans: Difference b/w string and variable.\n",
    "\n",
    "String is a data type which is written in between single or double quotations. string is a value which represents \n",
    "names, character etc.\n",
    "\n",
    "where as, variable is a address of the value. where the value can be able to store in the variable.\n",
    "value can be string, integer, float, dictionary, set, tuple, bool, sets etc.\n",
    "\n",
    "string is a data or value and variable is the address of the value which is stored in the variable and callable.'''\n",
    "\n",
    "#example:\n",
    "\n",
    "var1 = \"AadiGoud\"  #here var1 is the variable and \"AadiGoud is a string\"\n"
   ]
  },
  {
   "cell_type": "markdown",
   "id": "9303b374",
   "metadata": {},
   "source": [
    "# 3. Describe three different data types."
   ]
  },
  {
   "cell_type": "code",
   "execution_count": null,
   "id": "47570dd6",
   "metadata": {},
   "outputs": [],
   "source": [
    "\n",
    "'''ans:\n",
    "\n",
    "1. tuples : tuple is the one of the data type in python which is immutable. tuples are enclosed with round brackets.\n",
    "tuples can hold various types of data like int, float, string etc.\n",
    "tuple does not have indexing.'''\n",
    "\n",
    "#example: \n",
    "\n",
    "tup = (1,2,5.6,\"aadi\",True)\n",
    "\n",
    "'''2. list:  list is the one of the data type in python which is mutable. list is enclosed with square brackets.\n",
    "list can hold various types of data like int, float, string etc. list can be manipulate using list functions,\n",
    "list have indexing.'''\n",
    "\n",
    "#example:\n",
    "\n",
    "l = [2,3,4,6.7,\"Goud\",True]\n",
    "\n",
    "'''3. dictionary : dict is also a data type of python which is enclosed with curly brackets, dict have key value pair.\n",
    "using key word we can able to access the value. dict key value is mutable where as, keys are immutable.'''\n",
    "\n",
    "#example:\n",
    "\n",
    "dic1 = {\"key1\":\"ineuron\", \"key2\":2022, \"key3\":True}"
   ]
  },
  {
   "cell_type": "markdown",
   "id": "a7f24b0d",
   "metadata": {},
   "source": [
    "# 4. What is an expression made up of? What do all expressions do?"
   ]
  },
  {
   "cell_type": "code",
   "execution_count": null,
   "id": "8748e4ce",
   "metadata": {},
   "outputs": [],
   "source": [
    "'''\n",
    "ans: Expression is made up of operators, literals, and variables.\n",
    "it is the combination of operators and operands to give the output or result.\n",
    "There are 5 types of expressions they are :'''\n",
    "#1. Arthmetic expressions : It involve numbers and arthmetic operators.\n",
    "#example:\n",
    "x = 2\n",
    "y = 7\n",
    "sum = x+y #these all are arthmetic expressions\n",
    "sub = x-y\n",
    "div = x/y\n",
    "mul = x*y\n",
    "print(sum)\n",
    "print(sub)\n",
    "print(div)\n",
    "print(mul)\n",
    "\n",
    "'''2. Relation expression : In simple words the relational expression says the relation b/w the values,variables \n",
    "with == , >= , <= , != , > , < '''\n",
    "\n",
    "#example:\n",
    "a = 10\n",
    "b = 12\n",
    "print(a>b)\n",
    "print(a<b)\n",
    "print(b!=a)\n",
    "print(a==b)\n",
    "print(b>=a)\n",
    "print(b<=a)\n",
    "\n",
    "#3. string expression :  Any expression is having string operators and string operands is known as string expression.\n",
    "#Example:\n",
    "Name = \"Aadi\"+\"Goud\"\n",
    "name = \"Ineuron\"\n",
    "print(Name)\n",
    "print(name*2)\n",
    "\n",
    "#4. Logical expression : Any expression having operands and logical operators is known as logical expression.\n",
    "#Example: \n",
    "p = 10\n",
    "q = 20\n",
    "print(p<q and q>p)\n",
    "print(p>q or q<p)\n",
    "print(not q)\n",
    "\n",
    "'''5. Compound expression: combination of different operands and different operators in one\n",
    "single expression is known as compound expression'''\n",
    "#Example: \n",
    "p<q and q>p  #it has relational operators and logical operators."
   ]
  },
  {
   "cell_type": "markdown",
   "id": "8dbed562",
   "metadata": {},
   "source": [
    "# 5. This assignment statements, like spam = 10. What is the difference between an expression and a statement?"
   ]
  },
  {
   "cell_type": "code",
   "execution_count": null,
   "id": "0896f123",
   "metadata": {},
   "outputs": [],
   "source": [
    "'''\n",
    "ans: \n",
    "statement is the command to call something and it gives output where as, expression is the combination\n",
    "of operators and operands.'''\n",
    "#Example: \n",
    "spam = 10     #this is an expression\n",
    "print(spam)   #this is an statement"
   ]
  },
  {
   "cell_type": "markdown",
   "id": "56d92a14",
   "metadata": {},
   "source": [
    "# 6. After running the following code, what does the variable bacon contain?"
   ]
  },
  {
   "cell_type": "code",
   "execution_count": null,
   "id": "a61c4db3",
   "metadata": {},
   "outputs": [],
   "source": [
    "\n",
    "bacon = 22\n",
    "bacon + 1\n",
    "\n",
    "#ans: bacon contains the value of 23"
   ]
  },
  {
   "cell_type": "markdown",
   "id": "8fb33a38",
   "metadata": {},
   "source": [
    "# 7. What should the values of the following two terms be?"
   ]
  },
  {
   "cell_type": "code",
   "execution_count": null,
   "id": "eafdec01",
   "metadata": {},
   "outputs": [],
   "source": [
    "\n",
    "print('spam'+'spamspam')\n",
    "print('spam'*3)"
   ]
  },
  {
   "cell_type": "markdown",
   "id": "e28a8f5c",
   "metadata": {},
   "source": [
    "# 8. Why is eggs a valid variable name while 100 is invalid?"
   ]
  },
  {
   "cell_type": "code",
   "execution_count": null,
   "id": "e5e5cc93",
   "metadata": {},
   "outputs": [],
   "source": [
    "\n",
    "#Ans:\n",
    "'''Yes, eggs is a valid variable because it is a string it has the property to store a value.\n",
    "where as, 100 is invalid because it is integer where an integer cant be a variable it does not have the property to store a value'''"
   ]
  },
  {
   "cell_type": "markdown",
   "id": "8a6810e0",
   "metadata": {},
   "source": [
    "# 9. What three functions can be used to get the integer, floating-point number, or string version of a value?"
   ]
  },
  {
   "cell_type": "code",
   "execution_count": null,
   "id": "4e857ad1",
   "metadata": {},
   "outputs": [],
   "source": [
    "'''\n",
    "for integer - 'int'\n",
    "for floating-point - 'float'\n",
    "for string - 'str'\n",
    "'''\n",
    "# These are the three functions that can be used to get ingteger, floating-point and string."
   ]
  },
  {
   "cell_type": "markdown",
   "id": "e087ee7b",
   "metadata": {},
   "source": [
    "# 10. Why does this expression cause an error? How can you fix it? &#39;I have eaten &#39; + 99 + &#39; burritos.&#39;"
   ]
  },
  {
   "cell_type": "code",
   "execution_count": null,
   "id": "6c1222ed",
   "metadata": {},
   "outputs": [],
   "source": [
    "#'I have eaten'+99+'burritos'\n",
    "'''Here 'I have eaten' is string , 99 is a integer and 'burritos' is also string. we cannot concatenate string with integers\n",
    "This error can be fixed by putting single or double quotes.'''\n",
    "\n",
    "'I have eaten' +' ' '99' ' ' + 'burritos'\n"
   ]
  },
  {
   "cell_type": "code",
   "execution_count": null,
   "id": "d97fddbc",
   "metadata": {},
   "outputs": [],
   "source": []
  }
 ],
 "metadata": {
  "kernelspec": {
   "display_name": "Python 3 (ipykernel)",
   "language": "python",
   "name": "python3"
  },
  "language_info": {
   "codemirror_mode": {
    "name": "ipython",
    "version": 3
   },
   "file_extension": ".py",
   "mimetype": "text/x-python",
   "name": "python",
   "nbconvert_exporter": "python",
   "pygments_lexer": "ipython3",
   "version": "3.9.7"
  }
 },
 "nbformat": 4,
 "nbformat_minor": 5
}
