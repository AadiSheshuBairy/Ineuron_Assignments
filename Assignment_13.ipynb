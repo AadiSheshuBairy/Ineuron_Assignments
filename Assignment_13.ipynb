{
 "cells": [
  {
   "cell_type": "code",
   "execution_count": null,
   "id": "b1f74eeb",
   "metadata": {},
   "outputs": [],
   "source": [
    "1. What advantages do Excel spreadsheets have over CSV spreadsheets?\n",
    "We can do a lot of various operations on data in excel but no in csv.\n",
    "Excel can store more complex data.\n",
    "No distinction between data type in csv"
   ]
  },
  {
   "cell_type": "code",
   "execution_count": null,
   "id": "0eec0db6",
   "metadata": {},
   "outputs": [],
   "source": [
    "2.What do you pass to csv.reader() and csv.writer() to create reader and writer objects?\n",
    "import csv\n",
    "In csv.reader() we pass file and dialect. In csv.writer() we pass fileobj and dialect.\n"
   ]
  },
  {
   "cell_type": "code",
   "execution_count": null,
   "id": "54e0e5b6",
   "metadata": {},
   "outputs": [],
   "source": [
    "3. What modes do File objects for reader and writer objects need to be opened in?\n",
    "in reader object we open file in read mode 'r'\n",
    "\n",
    "in writer object we open file in write mode 'w'.\n",
    "\n"
   ]
  },
  {
   "cell_type": "code",
   "execution_count": null,
   "id": "0140d6ec",
   "metadata": {},
   "outputs": [],
   "source": [
    "4. What method takes a list argument and writes it to a CSV file?\n",
    "use writerow() method for list argument in csv file.\n"
   ]
  },
  {
   "cell_type": "code",
   "execution_count": null,
   "id": "a28a1253",
   "metadata": {},
   "outputs": [],
   "source": [
    "5. What do the keyword arguments delimiter and line terminator do?\n",
    "firstname, lastname, age\n",
    "\n",
    "Aadi, Goud, 23\n",
    "\n",
    "Aadi, Bairy,19\n",
    "\n",
    "here ',' is delimiter we can use any character as per our needs. \n",
    "line terminator comes at end of line by default it is newline and can be changed accourding to requirement.\n"
   ]
  },
  {
   "cell_type": "code",
   "execution_count": null,
   "id": "2aeefb20",
   "metadata": {},
   "outputs": [],
   "source": [
    "6. What function takes a string of JSON data and returns a Python data structure?\n",
    "\n",
    "dumps() function convert json data into python data structure"
   ]
  },
  {
   "cell_type": "code",
   "execution_count": null,
   "id": "740fce32",
   "metadata": {},
   "outputs": [],
   "source": [
    "7. What function takes a Python data structure and returns a string of JSON data?\n",
    "\n",
    "loads() function converts python data structure and returns a string of json data.\n"
   ]
  }
 ],
 "metadata": {
  "kernelspec": {
   "display_name": "Python 3 (ipykernel)",
   "language": "python",
   "name": "python3"
  },
  "language_info": {
   "codemirror_mode": {
    "name": "ipython",
    "version": 3
   },
   "file_extension": ".py",
   "mimetype": "text/x-python",
   "name": "python",
   "nbconvert_exporter": "python",
   "pygments_lexer": "ipython3",
   "version": "3.9.7"
  }
 },
 "nbformat": 4,
 "nbformat_minor": 5
}
