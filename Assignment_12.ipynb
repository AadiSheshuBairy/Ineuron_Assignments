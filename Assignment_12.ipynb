{
 "cells": [
  {
   "cell_type": "code",
   "execution_count": null,
   "id": "faf480ff",
   "metadata": {},
   "outputs": [],
   "source": [
    "#1. In what modes should the PdfFileReader() and PdfFileWriter() File objects will be opened?\n",
    "\n",
    "import PyPDF2\n",
    "\n",
    "PdfFileReader() -- it is used in 'rb' mode i.e. read binary\n",
    "\n",
    "PdfFileWriter() -- it is used in 'wb' mode i.e. write binary"
   ]
  },
  {
   "cell_type": "code",
   "execution_count": null,
   "id": "902d2c9c",
   "metadata": {},
   "outputs": [],
   "source": [
    "#2. From a PdfFileReader object, how do you get a Page object for page 5?\n",
    "\n",
    "use getpage(5) method."
   ]
  },
  {
   "cell_type": "code",
   "execution_count": null,
   "id": "1e60a132",
   "metadata": {},
   "outputs": [],
   "source": [
    "#3. What PdfFileReader variable stores the number of pages in the PDF document?\n",
    "\n",
    "numPages stores the total number of pages in a pdf\n"
   ]
  },
  {
   "cell_type": "code",
   "execution_count": null,
   "id": "4721dd11",
   "metadata": {},
   "outputs": [],
   "source": [
    "'''4. If a PdfFileReader object’s PDF is encrypted with the password swordfish, \n",
    "what must you do before you can obtain Page objects from it?'''\n",
    "\n",
    "step 1 - load pdf [ PyPDF2.PdfFileReader(open('encrypted.pdf', 'rb')) ]\n",
    "\n",
    "step 2 - check weather it is encrypted [ pdf.isEncrypted ]\n",
    "\n",
    "step 3 - if encrypted use [ pdf.decrypt('swordfish') ]\n"
   ]
  },
  {
   "cell_type": "code",
   "execution_count": null,
   "id": "1ca8eb9a",
   "metadata": {},
   "outputs": [],
   "source": [
    "#5. What methods do you use to rotate a page?\n",
    "\n",
    "For anticlockwise: rotateCounterClockwise()\n",
    "\n",
    "for clockwise : rotateClockwise()\n"
   ]
  },
  {
   "cell_type": "code",
   "execution_count": null,
   "id": "817bd00b",
   "metadata": {},
   "outputs": [],
   "source": [
    "#6. What is the difference between a Run object and a Paragraph object?\n",
    "\n",
    "Word document contain formatted text wrapped within three object levels: lowest level: run objects. middle level: paragraph objects. highest level: document object.\n",
    "\n",
    "Run Object is used for inline content, text, pictures and other items within a paragraph\n"
   ]
  },
  {
   "cell_type": "code",
   "execution_count": null,
   "id": "dc4698de",
   "metadata": {},
   "outputs": [],
   "source": [
    "#7. How do you obtain a list of Paragraph objects for a Document object that’s stored in a variable named doc?\n",
    "\n",
    "pip install python-docx\n",
    "import docx\n",
    "d = docx.Document('trial.docx')\n",
    "len(d.paragraphs)\n"
   ]
  },
  {
   "cell_type": "code",
   "execution_count": null,
   "id": "d4e34d3f",
   "metadata": {},
   "outputs": [],
   "source": [
    "#8. What type of object has bold, underline, italic, strike, and outline variables?\n",
    "\n",
    "Run object\n"
   ]
  },
  {
   "cell_type": "code",
   "execution_count": null,
   "id": "b51d9995",
   "metadata": {},
   "outputs": [],
   "source": [
    "#9. What is the difference between False, True, and None for the bold variable?\n",
    "\n",
    "False = off\n",
    "\n",
    "True = on\n",
    "\n",
    "none = not available\n"
   ]
  },
  {
   "cell_type": "code",
   "execution_count": null,
   "id": "0d5efacb",
   "metadata": {},
   "outputs": [],
   "source": [
    "#10. How do you create a Document object for a new Word document?\n",
    "\n",
    "doc = docx.Document()\n",
    "\n",
    "doc.add_paragraph('world')\n",
    "\n",
    "doc.save('hello.docx')\n"
   ]
  },
  {
   "cell_type": "code",
   "execution_count": null,
   "id": "0692be4e",
   "metadata": {},
   "outputs": [],
   "source": [
    "#11. How do you add a paragraph with the text 'Hello, there!' to a Document object stored in a variable named doc?\n",
    "\n",
    "doc = docx.Document()\n",
    "\n",
    "doc.add_paragraph('Hello,there!')\n",
    "\n",
    "doc.save('hellothere.docx')\n"
   ]
  },
  {
   "cell_type": "code",
   "execution_count": null,
   "id": "220b8fea",
   "metadata": {},
   "outputs": [],
   "source": [
    "#12. What integers represent the levels of headings available in Word documents?\n",
    "\n",
    "integers 1 to 4 are for various heading levels where 1 is main heading and 4 the lowest subheading."
   ]
  }
 ],
 "metadata": {
  "kernelspec": {
   "display_name": "Python 3 (ipykernel)",
   "language": "python",
   "name": "python3"
  },
  "language_info": {
   "codemirror_mode": {
    "name": "ipython",
    "version": 3
   },
   "file_extension": ".py",
   "mimetype": "text/x-python",
   "name": "python",
   "nbconvert_exporter": "python",
   "pygments_lexer": "ipython3",
   "version": "3.9.7"
  }
 },
 "nbformat": 4,
 "nbformat_minor": 5
}
