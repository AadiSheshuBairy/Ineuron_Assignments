{
 "cells": [
  {
   "cell_type": "code",
   "execution_count": null,
   "id": "26c5e5d8",
   "metadata": {},
   "outputs": [],
   "source": [
    "#1. Create an assert statement that throws an AssertionError if the variable spam is a negative integer.\n",
    "def check_neg(spam):\n",
    "    assert spam>0 , \"enter positive number\"\n",
    "check_neg(-1)"
   ]
  },
  {
   "cell_type": "code",
   "execution_count": null,
   "id": "3709d17a",
   "metadata": {},
   "outputs": [],
   "source": [
    "'''2. Write an assert statement that triggers an AssertionError if the variables eggs and bacon contain strings that are the same as each other, even if their cases are different (that is, 'hello' and 'hello' are considered the ame, and 'goodbye' and 'GOODbye' are also considered the same).\n",
    "def assert_stat(eggs, bacon):'''\n",
    "\n",
    "eggs = eggs.lower()\n",
    "bacon = bacon.lower()\n",
    "assert eggs==bacon, \"Enter same words\"\n",
    "    \n",
    "eggs = \"goodbye\"\n",
    "bacon = \"GOODbye\"\n",
    "assert_stat(eggs,bacon)\n",
    "def assert_stat(eggs, bacon):\n",
    "    assert eggs==bacon, \"Enter same words and also check the lower and upper case\"\n",
    "    \n",
    "eggs = \"goodbye\"\n",
    "bacon = \"GOODbye\"\n",
    "assert_stat(eggs,bacon)"
   ]
  },
  {
   "cell_type": "code",
   "execution_count": null,
   "id": "3cf6ca47",
   "metadata": {},
   "outputs": [],
   "source": [
    "#3. Create an assert statement that throws an AssertionError every time.\n",
    "\n",
    "def always_error():\n",
    "    \n",
    "    assert False, \"Assertion statement everytime\"\n",
    "always_error()"
   ]
  },
  {
   "cell_type": "code",
   "execution_count": null,
   "id": "24bafad8",
   "metadata": {},
   "outputs": [],
   "source": [
    "#4. What are the two lines that must be present in your software in order to call logging.debug()?\n",
    "\n",
    "import logging\n",
    "logging.basicConfig(filename = 'trial.txt',level = logging.DEBUG, format = '%(asctime)s - %(message)s - %(levelname)s')\n",
    "logging.debug('Start')\n",
    "logging.debug('End')"
   ]
  },
  {
   "cell_type": "code",
   "execution_count": null,
   "id": "f5a0fa5f",
   "metadata": {},
   "outputs": [],
   "source": [
    "'''5. What are the two lines that your program must have in order to have logging.debug() \n",
    "send a logging message to a file named programLog.txt?'''\n",
    "\n",
    "logging.basicConfig(\n",
    "    filename='programLog.txt', level=logging.DEBUG, format='%(message)s - %(asctime)s - %(levelname)s')\n",
    "logging.debug(\"hahaha test message\")\n",
    "logging.debug('hahaha is a test message.')"
   ]
  },
  {
   "cell_type": "code",
   "execution_count": null,
   "id": "41ae36fa",
   "metadata": {},
   "outputs": [],
   "source": [
    "6. What are the five levels of logging?\n",
    "LEVELS OF LOGGING:\n",
    "\n",
    "            1. Debug\n",
    "            2. INFO\n",
    "            3. WARNINGS\n",
    "            4. ERROR\n",
    "            5. CRITICAL"
   ]
  },
  {
   "cell_type": "code",
   "execution_count": null,
   "id": "8f8b5481",
   "metadata": {},
   "outputs": [],
   "source": [
    "7. What line of code would you add to your software to disable all logging messages?\n",
    "logging.disable = True\n"
   ]
  },
  {
   "cell_type": "code",
   "execution_count": null,
   "id": "523c60f1",
   "metadata": {},
   "outputs": [],
   "source": [
    "8.Why is using logging messages better than using print() to display the same message?\n",
    "print is used when you want to display any particular message or \n",
    "help whereas logging is used to record all events like error, info, debug messages, timestamps.\n"
   ]
  },
  {
   "cell_type": "code",
   "execution_count": null,
   "id": "7cb627fb",
   "metadata": {},
   "outputs": [],
   "source": [
    "9. What are the differences between the Step Over, Step In, and Step Out buttons in the debugger?\n",
    "Step Over: This button will step over i.e. it will execute that line but result returned without debugging.\n",
    "\n",
    "Step In: This button helps entering debugger and start debugging line by line.\n",
    "\n",
    "Step Out: This breaks out of the debugger."
   ]
  },
  {
   "cell_type": "code",
   "execution_count": null,
   "id": "0c12a456",
   "metadata": {},
   "outputs": [],
   "source": [
    "10.After you click Continue, when will the debugger stop ?\n",
    "This will cause the program to continue running normally, without pausing for debugging untill it is completed.\n",
    "\n",
    "11. What is the concept of a breakpoint?\n",
    "this will help step line by line through the code.\n"
   ]
  },
  {
   "cell_type": "code",
   "execution_count": null,
   "id": "c1182c20",
   "metadata": {},
   "outputs": [],
   "source": [
    "11. What is the concept of a breakpoint?\n",
    "Ans : This will help step line by line through the code."
   ]
  }
 ],
 "metadata": {
  "kernelspec": {
   "display_name": "Python 3 (ipykernel)",
   "language": "python",
   "name": "python3"
  },
  "language_info": {
   "codemirror_mode": {
    "name": "ipython",
    "version": 3
   },
   "file_extension": ".py",
   "mimetype": "text/x-python",
   "name": "python",
   "nbconvert_exporter": "python",
   "pygments_lexer": "ipython3",
   "version": "3.9.7"
  }
 },
 "nbformat": 4,
 "nbformat_minor": 5
}
