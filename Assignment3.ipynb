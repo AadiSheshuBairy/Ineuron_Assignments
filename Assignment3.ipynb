{
 "cells": [
  {
   "cell_type": "code",
   "execution_count": null,
   "id": "5df68497",
   "metadata": {},
   "outputs": [],
   "source": [
    "#1. Why are functions advantageous to have in your programs?\n",
    "'''\n",
    "Reusability: Functions allow you to reuse code within a single program or across multiple programs. \n",
    "This can save you time and effort when writing code, as you don't have to rewrite the same code multiple times.\n",
    "\n",
    "Modularity: Functions allow you to divide your code into logical blocks, making it easier to understand and maintain. \n",
    "This can make it easier to debug your code, as you can focus on a specific function rather than trying \n",
    "to understand the entire program at once.\n",
    "\n",
    "Abstraction: Functions allow you to hide the implementation details of a particular piece of code, \n",
    "making it easier for other developers to use your code without needing to understand how it works. \n",
    "This can make your code more readable and maintainable.\n",
    "\n",
    "Testing and debugging: Functions allow you to test and debug individual pieces of code separately, \n",
    "rather than having to test and debug the entire program at once. This can make it easier to identify and fix problems in your code.\n",
    "'''"
   ]
  },
  {
   "cell_type": "code",
   "execution_count": 1,
   "id": "a8221fb0",
   "metadata": {},
   "outputs": [],
   "source": [
    "#3. What statement creates a function?\n",
    "'''\n",
    "The statement that creates a function is def\n",
    "'''\n",
    "#example:\n",
    "\n",
    "def greet(name):\n",
    "    print(\"Hello, \" + name + \"!\")"
   ]
  },
  {
   "cell_type": "code",
   "execution_count": null,
   "id": "09ddc71c",
   "metadata": {},
   "outputs": [],
   "source": [
    "#4. What is the difference between a function and a function call?\n",
    "'''\n",
    "A function is a block of code that is defined and can be executed when it is called. \n",
    "A function call is the act of executing a function by using its name and passing any required arguments.\n",
    "'''"
   ]
  },
  {
   "cell_type": "code",
   "execution_count": 2,
   "id": "897b2617",
   "metadata": {},
   "outputs": [
    {
     "name": "stdout",
     "output_type": "stream",
     "text": [
      "1\n"
     ]
    },
    {
     "ename": "NameError",
     "evalue": "name 'y' is not defined",
     "output_type": "error",
     "traceback": [
      "\u001b[1;31m---------------------------------------------------------------------------\u001b[0m",
      "\u001b[1;31mNameError\u001b[0m                                 Traceback (most recent call last)",
      "\u001b[1;32mC:\\Users\\SHIVAN~1\\AppData\\Local\\Temp/ipykernel_3528/2723083720.py\u001b[0m in \u001b[0;36m<module>\u001b[1;34m\u001b[0m\n\u001b[0;32m     21\u001b[0m \u001b[1;33m\u001b[0m\u001b[0m\n\u001b[0;32m     22\u001b[0m \u001b[0mprint\u001b[0m\u001b[1;33m(\u001b[0m\u001b[0mx\u001b[0m\u001b[1;33m)\u001b[0m  \u001b[1;31m# accesses global variable\u001b[0m\u001b[1;33m\u001b[0m\u001b[1;33m\u001b[0m\u001b[0m\n\u001b[1;32m---> 23\u001b[1;33m \u001b[0mprint\u001b[0m\u001b[1;33m(\u001b[0m\u001b[0my\u001b[0m\u001b[1;33m)\u001b[0m  \u001b[1;31m# raises an error, y is not defined in the global scope\u001b[0m\u001b[1;33m\u001b[0m\u001b[1;33m\u001b[0m\u001b[0m\n\u001b[0m",
      "\u001b[1;31mNameError\u001b[0m: name 'y' is not defined"
     ]
    }
   ],
   "source": [
    "#5. How many global scopes are there in a Python program? How many local scopes?\n",
    "'''\n",
    "In Python, there is only one global scope for a program,and there can be multiple local scopes within a program.\n",
    "\n",
    "The global scope refers to the main body of the program, \n",
    "and it encompasses all the code in the program that is not contained within a function or class definition. \n",
    "Variables defined in the global scope are called global variables, and they can be accessed from anywhere in the program.\n",
    "\n",
    "Local scopes, on the other hand, are created whenever a function or class is defined. \n",
    "Each function or class definition creates a new local scope, and variables defined within these scopes are called local variables. \n",
    "Local variables are only accessible within the function or class in which they are defined and are not visible outside of it.\n",
    "\n",
    "Here is an example in Python to illustrate the difference between global and local scopes:\n",
    "'''\n",
    "x = 1  # global variable\n",
    "\n",
    "def foo():\n",
    "    y = 2  # local variable\n",
    "    print(x)  # accesses global variable\n",
    "    print(y)  # accesses local variable\n",
    "\n",
    "print(x)  # accesses global variable\n",
    "print(y)  # raises an error, y is not defined in the global scope"
   ]
  },
  {
   "cell_type": "code",
   "execution_count": 3,
   "id": "2c7a1312",
   "metadata": {},
   "outputs": [
    {
     "name": "stdout",
     "output_type": "stream",
     "text": [
      "1\n",
      "1\n"
     ]
    }
   ],
   "source": [
    "#6. What happens to variables in a local scope when the function call returns?\n",
    "'''\n",
    "When a function call returns, the local variables defined within the function's local scope are no longer accessible. \n",
    "This is because the local scope is destroyed when the function call ends, and the memory used by the local variables is released.\n",
    "\n",
    "Here is an example in Python to illustrate what happens to local variables when a function call returns:\n",
    "'''\n",
    "def foo():\n",
    "    x = 1  # local variable\n",
    "    print(x)\n",
    "\n",
    "foo()  # prints 1\n",
    "print(x)# raises an error, x is not defined in the global scope"
   ]
  },
  {
   "cell_type": "code",
   "execution_count": 4,
   "id": "c89dd243",
   "metadata": {},
   "outputs": [],
   "source": [
    "#7.What is the concept of a return value? Is it possible to have a return value in an expression?\n",
    "'''\n",
    "The concept of a return value refers to the value that a function returns to the caller when it is called. \n",
    "A function can return a value to the caller by using the return statement, which specifies the value that the function should return.\n",
    "\n",
    "Here is an example in Python to illustrate how to use the return statement to return a value from a function:\n",
    "'''\n",
    "def add(x, y):\n",
    "    return x + y\n",
    "\n",
    "result = add(2, 3)  # result is now 5\n"
   ]
  },
  {
   "cell_type": "code",
   "execution_count": 5,
   "id": "8ad3e895",
   "metadata": {},
   "outputs": [
    {
     "name": "stdout",
     "output_type": "stream",
     "text": [
      "Hello, Alice!\n",
      "None\n"
     ]
    }
   ],
   "source": [
    "#8.If a function does not have a return statement, what is the return value of a call to that function?\n",
    "'''\n",
    "If a function does not have a return statement, the return value of a call to that function is None in Python.\n",
    "\n",
    "Here is an example to illustrate this:\n",
    "'''\n",
    "def greet(name):\n",
    "    print(\"Hello, \" + name + \"!\")\n",
    "\n",
    "result = greet(\"Alice\")  # prints \"Hello, Alice!\" and assigns None to result\n",
    "print(result)  # prints None\n"
   ]
  },
  {
   "cell_type": "code",
   "execution_count": null,
   "id": "4c8f033c",
   "metadata": {},
   "outputs": [],
   "source": [
    "#9. How do you make a function variable refer to the global variable?\n",
    "'''\n",
    "To make a function variable refer to a global variable, you can use the global keyword in the function.\n",
    "\n",
    "Here is an example in Python to illustrate this:\n",
    "'''\n",
    "x = 1  # global variable\n",
    "\n",
    "def foo():\n",
    "    global x  # refers to the global variable x\n",
    "    x = 2  # changes the value of the global variable x\n",
    "\n",
    "print(x)  # prints 1\n",
    "foo()\n",
    "print(x)  # prints 2\n"
   ]
  },
  {
   "cell_type": "code",
   "execution_count": 6,
   "id": "ef8df63a",
   "metadata": {},
   "outputs": [
    {
     "name": "stdout",
     "output_type": "stream",
     "text": [
      "<class 'NoneType'>\n"
     ]
    }
   ],
   "source": [
    "#10. What is the data type of None?\n",
    "'''\n",
    "In Python, None is a special constant that represents the absence of a value or a null value. It is not a data type, but rather a singleton object of a class called NoneType\n",
    "'''\n",
    "x = None\n",
    "print(type(x))  # prints \"<class 'NoneType'>\"\n"
   ]
  },
  {
   "cell_type": "code",
   "execution_count": null,
   "id": "53b24ca1",
   "metadata": {},
   "outputs": [],
   "source": [
    "#11. What does the sentence import areallyourpetsnamederic do?\n",
    "'''\n",
    "The sentence import areallyourpetsnamederic is a valid Python statement that attempts to import a module or package with the name areallyourpetsnamederic.\n",
    "\n",
    "In Python, the import statement is used to import modules or packages that contain code that you want to use in your program. When you import a module or package, you can access the functions, variables, and other objects defined in it by using the module or package name as a prefix.\n",
    "'''"
   ]
  },
  {
   "cell_type": "code",
   "execution_count": null,
   "id": "2ffc1a20",
   "metadata": {},
   "outputs": [],
   "source": [
    "#12. If you had a bacon() feature in a spam module, what would you call it after importing spam?\n",
    "'''\n",
    "To call the function bacon() inside the module spam after importing it, you would need to use the following syntax:\n",
    "'''\n",
    "from spam import bacon\n",
    "bacon()"
   ]
  },
  {
   "cell_type": "code",
   "execution_count": null,
   "id": "f40acd54",
   "metadata": {},
   "outputs": [],
   "source": [
    "#13. What can you do to save a programme from crashing if it encounters an error?\n",
    "'''\n",
    "There are several things you can do to save a program from crashing if it encounters an error:\n",
    "\n",
    "Use try and except statements: The try and except statements allow you to handle exceptions (errors) that may occur in your program. \n",
    "You can use them to catch specific types of exceptions and provide a recovery mechanism, such as displaying an error message or\n",
    "taking some other action to mitigate the problem.\n",
    "\n",
    "Check input values: You can use if statements or other conditional statements to check the \n",
    "values of input variables before using them in your program. This can help prevent errors caused by invalid or unexpected input.\n",
    "\n",
    "Use default values: You can use default values for function arguments or variables to provide a fallback value \n",
    "in case no value is provided. This can help prevent errors caused by missing or uninitialized variables.\n",
    "\n",
    "Add debugging statements: You can add debugging statements, such as print statements or log messages, \n",
    "to your program to help you understand what is happening when an error occurs. This can make it easier to identify and fix the problem.\n",
    "\n",
    "Test your code: Testing your code can help you catch errors before they cause your program to crash. \n",
    "You can use unit tests, integration tests, or other types of tests to validate your code and make sure it works as expected.\n",
    "\n",
    "Overall, a combination of these techniques can help you write more robust and error-resistant code and \n",
    "save your program from crashing when errors occur.\n",
    "'''"
   ]
  },
  {
   "cell_type": "code",
   "execution_count": 8,
   "id": "9d8ed503",
   "metadata": {},
   "outputs": [
    {
     "name": "stdout",
     "output_type": "stream",
     "text": [
      "Error: Division by zero\n"
     ]
    }
   ],
   "source": [
    "#14. What is the purpose of the try clause? What is the purpose of the except clause?\n",
    "'''\n",
    "The try clause is a block of code that is used to define a block of code that you want to execute \n",
    "and that may raise an exception (error). The except clause is a block of code that is used to handle exceptions \n",
    "that may occur in the try clause.\n",
    "\n",
    "Here is an example in Python to illustrate the use of the try and except clauses:\n",
    "'''\n",
    "try:\n",
    "    x = 1 / 0  # this line will raise a ZeroDivisionError\n",
    "except ZeroDivisionError:\n",
    "    print(\"Error: Division by zero\")\n"
   ]
  },
  {
   "cell_type": "code",
   "execution_count": null,
   "id": "e48c932c",
   "metadata": {},
   "outputs": [],
   "source": []
  },
  {
   "cell_type": "code",
   "execution_count": null,
   "id": "a7490209",
   "metadata": {},
   "outputs": [],
   "source": []
  },
  {
   "cell_type": "code",
   "execution_count": null,
   "id": "98520047",
   "metadata": {},
   "outputs": [],
   "source": []
  }
 ],
 "metadata": {
  "kernelspec": {
   "display_name": "Python 3 (ipykernel)",
   "language": "python",
   "name": "python3"
  },
  "language_info": {
   "codemirror_mode": {
    "name": "ipython",
    "version": 3
   },
   "file_extension": ".py",
   "mimetype": "text/x-python",
   "name": "python",
   "nbconvert_exporter": "python",
   "pygments_lexer": "ipython3",
   "version": "3.9.7"
  }
 },
 "nbformat": 4,
 "nbformat_minor": 5
}
