{
 "cells": [
  {
   "cell_type": "code",
   "execution_count": null,
   "id": "5d5a3951",
   "metadata": {},
   "outputs": [],
   "source": [
    "1. Is the Python Standard Library included with PyInputPlus?\n",
    "it is not a part of python standard library"
   ]
  },
  {
   "cell_type": "code",
   "execution_count": null,
   "id": "9e7426ee",
   "metadata": {},
   "outputs": [],
   "source": [
    "2. Why is PyInputPlus commonly imported with import pyinputplus as pypi?\n",
    "this piece of code help us save time from calling each time we want to use pyinputplus where pypi is allias"
   ]
  },
  {
   "cell_type": "code",
   "execution_count": null,
   "id": "94ee019a",
   "metadata": {},
   "outputs": [],
   "source": [
    "3. How do you distinguish between inputInt() and inputFloat()?\n",
    "inputInt() is for integers i.e number without decimal\n",
    "where as inputFloat() belongs to float class i.e with decimal."
   ]
  },
  {
   "cell_type": "code",
   "execution_count": null,
   "id": "0c1b4931",
   "metadata": {},
   "outputs": [],
   "source": [
    "4. Using PyInputPlus, how do you ensure that the user enters a whole number between 0 and 99?\n",
    "a = pyip.inputNum('>', min=0, lessThan=99)"
   ]
  },
  {
   "cell_type": "code",
   "execution_count": null,
   "id": "10e87753",
   "metadata": {},
   "outputs": [],
   "source": [
    "'''5. What is transferred to the keyword arguments allowRegexes and blockRegexes?\n",
    "we can use allowRegexes and blockRegexes keyword arguments to take list of regular expression strings to determine\n",
    "\n",
    "what the pyInputplus function will reject or accept valid input.'''\n",
    "\n",
    "#for example:\n",
    "!pip install PyInputPlus\n",
    "import PyInputPlus as pyip\n",
    "a = pyip.inputStr(allowRegexes=[r'Aadi', 'Goud'],blockRegexes=[r'Bairy'])                  "
   ]
  },
  {
   "cell_type": "code",
   "execution_count": null,
   "id": "b2a0f8ed",
   "metadata": {},
   "outputs": [],
   "source": [
    "6. If a blank input is entered three times, what does inputStr(limit=3) do?\n",
    "it will give this error: as below\n",
    "\n",
    "pyinputplus.RetryLimitException"
   ]
  },
  {
   "cell_type": "code",
   "execution_count": null,
   "id": "76f51ac6",
   "metadata": {},
   "outputs": [],
   "source": [
    "7. If blank input is entered three times, what does inputStr(limit=3, default='hello') do?\n",
    "Instead of raising RetryLimitException, the inputNum() function simply returns the string 'hello'.\n",
    "\n"
   ]
  }
 ],
 "metadata": {
  "kernelspec": {
   "display_name": "Python 3 (ipykernel)",
   "language": "python",
   "name": "python3"
  },
  "language_info": {
   "codemirror_mode": {
    "name": "ipython",
    "version": 3
   },
   "file_extension": ".py",
   "mimetype": "text/x-python",
   "name": "python",
   "nbconvert_exporter": "python",
   "pygments_lexer": "ipython3",
   "version": "3.9.7"
  }
 },
 "nbformat": 4,
 "nbformat_minor": 5
}
