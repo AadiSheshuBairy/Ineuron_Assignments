{
 "cells": [
  {
   "cell_type": "code",
   "execution_count": 1,
   "id": "cec4296a",
   "metadata": {},
   "outputs": [],
   "source": [
    "#1. What does an empty dictionary's code look like?\n",
    "empty_dict = {}\n",
    "empty_dict = dict()"
   ]
  },
  {
   "cell_type": "code",
   "execution_count": 2,
   "id": "2ab10881",
   "metadata": {},
   "outputs": [],
   "source": [
    "#2. What is the value of a dictionary value with the key 'foo' and the value 42?\n",
    "'''\n",
    "If you have a dictionary with a key-value pair where the key is 'foo' and the value is 42, then the value of the dictionary value with key 'foo' is 42.\n",
    "'''\n",
    "my_dict = {'foo': 42}\n"
   ]
  },
  {
   "cell_type": "code",
   "execution_count": 3,
   "id": "0361d5a1",
   "metadata": {},
   "outputs": [],
   "source": [
    "#3. What is the most significant distinction between a dictionary and a list?\n",
    "'''\n",
    "One of the most significant distinctions between a dictionary and a list in Python is that a dictionary is a collection of key-value pairs, while a list is a collection of values.\n",
    "\n",
    "In a dictionary, the keys are used to access the corresponding values, whereas in a list, the values are accessed by their indices.\n",
    "'''\n",
    "my_dict = {'a': 1, 'b': 2, 'c': 3}\n",
    "my_list = [1, 2, 3]\n"
   ]
  },
  {
   "cell_type": "code",
   "execution_count": 4,
   "id": "bd1eb4c8",
   "metadata": {},
   "outputs": [
    {
     "ename": "KeyError",
     "evalue": "'foo'",
     "output_type": "error",
     "traceback": [
      "\u001b[1;31m---------------------------------------------------------------------------\u001b[0m",
      "\u001b[1;31mKeyError\u001b[0m                                  Traceback (most recent call last)",
      "\u001b[1;32mC:\\Users\\SHIVAN~1\\AppData\\Local\\Temp/ipykernel_6800/2385496841.py\u001b[0m in \u001b[0;36m<module>\u001b[1;34m\u001b[0m\n\u001b[0;32m      5\u001b[0m \u001b[0mspam\u001b[0m \u001b[1;33m=\u001b[0m \u001b[1;33m{\u001b[0m\u001b[1;34m'bar'\u001b[0m\u001b[1;33m:\u001b[0m \u001b[1;36m100\u001b[0m\u001b[1;33m}\u001b[0m\u001b[1;33m\u001b[0m\u001b[1;33m\u001b[0m\u001b[0m\n\u001b[0;32m      6\u001b[0m \u001b[1;31m#And you try to access the value with key 'foo' like this:\u001b[0m\u001b[1;33m\u001b[0m\u001b[1;33m\u001b[0m\u001b[0m\n\u001b[1;32m----> 7\u001b[1;33m \u001b[0mvalue\u001b[0m \u001b[1;33m=\u001b[0m \u001b[0mspam\u001b[0m\u001b[1;33m[\u001b[0m\u001b[1;34m'foo'\u001b[0m\u001b[1;33m]\u001b[0m\u001b[1;33m\u001b[0m\u001b[1;33m\u001b[0m\u001b[0m\n\u001b[0m\u001b[0;32m      8\u001b[0m \u001b[1;33m\u001b[0m\u001b[0m\n\u001b[0;32m      9\u001b[0m '''\n",
      "\u001b[1;31mKeyError\u001b[0m: 'foo'"
     ]
    }
   ],
   "source": [
    "#4. What happens if you try to access spam['foo'] if spam is {'bar': 100}?\n",
    "'''\n",
    "If you try to access the value in a dictionary with a key that does not exist in the dictionary, you will get a KeyError exception.\n",
    "'''\n",
    "spam = {'bar': 100}\n",
    "#And you try to access the value with key 'foo' like this:\n",
    "value = spam['foo']\n",
    "\n",
    "'''\n",
    "Then you will get a KeyError exception, because the key 'foo' does not exist in the dictionary spam.\n",
    "'''"
   ]
  },
  {
   "cell_type": "code",
   "execution_count": 5,
   "id": "e80796b2",
   "metadata": {},
   "outputs": [
    {
     "name": "stdout",
     "output_type": "stream",
     "text": [
      "True\n",
      "True\n",
      "False\n",
      "False\n"
     ]
    }
   ],
   "source": [
    "#5. If a dictionary is stored in spam, what is the difference between the expressions 'cat' in spam and 'cat' in spam.keys()?\n",
    "'''\n",
    "The expression 'cat' in spam checks if the key 'cat' is in the dictionary spam, and returns True if the key exists and False if it does not.\n",
    "\n",
    "On the other hand, the expression 'cat' in spam.keys() checks if the key 'cat' is in the list of keys returned by the keys() method of the dictionary spam. This will also return True if the key exists and False if it does not.\n",
    "\n",
    "In most cases, these expressions will behave the same way, because the keys() method returns a list of all the keys in the dictionary. However, the keys() method creates a new list object containing the keys, while the in operator checks for the presence of a key directly in the dictionary.\n",
    "\n",
    "As a result, the in operator may be slightly faster in cases where you only need to check for the presence of a key in the dictionary and do not need the full list of keys.\n",
    "'''\n",
    "\n",
    "spam = {'a': 1, 'b': 2, 'c': 3}\n",
    "\n",
    "# Check if the key 'b' is in the dictionary\n",
    "print('b' in spam)  # prints True\n",
    "\n",
    "# Check if the key 'b' is in the list of keys\n",
    "print('b' in spam.keys())  # also prints True\n",
    "\n",
    "# Check if the key 'd' is in the dictionary\n",
    "print('d' in spam)  # prints False\n",
    "\n",
    "# Check if the key 'd' is in the list of keys\n",
    "print('d' in spam.keys())  # also prints False"
   ]
  },
  {
   "cell_type": "code",
   "execution_count": 6,
   "id": "872ef65c",
   "metadata": {},
   "outputs": [
    {
     "name": "stdout",
     "output_type": "stream",
     "text": [
      "True\n",
      "True\n",
      "False\n",
      "False\n"
     ]
    }
   ],
   "source": [
    "#6. If a dictionary is stored in spam, what is the difference between the expressions 'cat' in spam and 'cat' in spam.values()?\n",
    "'''\n",
    "The expression 'cat' in spam checks if the key 'cat' is in the dictionary spam, and returns True if the key exists and False if it does not.\n",
    "\n",
    "On the other hand, the expression 'cat' in spam.values() checks if the value 'cat' is in the list of values returned by the values() method of the dictionary spam. This will return True if the value exists and False if it does not.\n",
    "\n",
    "In most cases, these expressions will behave differently, because the values() method returns a list of all the values in the dictionary, while the in operator checks for the presence of a key in the dictionary.\n",
    "'''\n",
    "spam = {'a': 1, 'b': 2, 'c': 3}\n",
    "\n",
    "# Check if the key 'b' is in the dictionary\n",
    "print('b' in spam)  # prints True\n",
    "\n",
    "# Check if the value 2 is in the list of values\n",
    "print(2 in spam.values())  # prints True\n",
    "\n",
    "# Check if the key 'd' is in the dictionary\n",
    "print('d' in spam)  # prints False\n",
    "\n",
    "# Check if the value 4 is in the list of values\n",
    "print(4 in spam.values())  # prints False"
   ]
  },
  {
   "cell_type": "code",
   "execution_count": 9,
   "id": "810a2733",
   "metadata": {},
   "outputs": [
    {
     "name": "stdout",
     "output_type": "stream",
     "text": [
      "{'a': 1, 'b': 2, 'c': 3}\n"
     ]
    }
   ],
   "source": [
    "#8. How do you \"pretty print\" dictionary values using which module and function?\n",
    "'''\n",
    "To \"pretty print\" dictionary values in Python, you can use the pprint module and the pprint() function.\n",
    "\n",
    "The pprint module provides a pprint() function that formats and prints dictionaries and other data structures in a more readable format than the default print() function.\n",
    "'''\n",
    "import pprint\n",
    "data = {'a': 1, 'b': 2, 'c': 3}\n",
    "pprint.pprint(data)"
   ]
  },
  {
   "cell_type": "code",
   "execution_count": null,
   "id": "d437aace",
   "metadata": {},
   "outputs": [],
   "source": []
  },
  {
   "cell_type": "code",
   "execution_count": null,
   "id": "e2a3816a",
   "metadata": {},
   "outputs": [],
   "source": []
  },
  {
   "cell_type": "code",
   "execution_count": null,
   "id": "b8fa8e5b",
   "metadata": {},
   "outputs": [],
   "source": []
  },
  {
   "cell_type": "code",
   "execution_count": null,
   "id": "d623d1b9",
   "metadata": {},
   "outputs": [],
   "source": []
  },
  {
   "cell_type": "code",
   "execution_count": null,
   "id": "fc77047b",
   "metadata": {},
   "outputs": [],
   "source": []
  },
  {
   "cell_type": "code",
   "execution_count": null,
   "id": "31ba8f7f",
   "metadata": {},
   "outputs": [],
   "source": []
  }
 ],
 "metadata": {
  "kernelspec": {
   "display_name": "Python 3 (ipykernel)",
   "language": "python",
   "name": "python3"
  },
  "language_info": {
   "codemirror_mode": {
    "name": "ipython",
    "version": 3
   },
   "file_extension": ".py",
   "mimetype": "text/x-python",
   "name": "python",
   "nbconvert_exporter": "python",
   "pygments_lexer": "ipython3",
   "version": "3.9.7"
  }
 },
 "nbformat": 4,
 "nbformat_minor": 5
}
