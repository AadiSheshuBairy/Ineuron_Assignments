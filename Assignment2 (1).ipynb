{
 "cells": [
  {
   "cell_type": "markdown",
   "id": "cf84898d",
   "metadata": {},
   "source": [
    "1.What are the two values of the Boolean data type? How do you write them? "
   ]
  },
  {
   "cell_type": "code",
   "execution_count": 1,
   "id": "49ea100a",
   "metadata": {},
   "outputs": [
    {
     "name": "stdout",
     "output_type": "stream",
     "text": [
      "True\n",
      "False\n"
     ]
    }
   ],
   "source": [
    "'''There are two values in Boolean data type they are, True and False.\n",
    "the value of True is 1 and the value of False is 0.\n",
    "the result of boolean is either True or False.'''\n",
    "\n",
    "#for Example : \n",
    "\n",
    "a = True      # value of True is 1\n",
    "b = False     # value of False is 0\n",
    "print(a)\n",
    "print(b)"
   ]
  },
  {
   "cell_type": "markdown",
   "id": "7d480aac",
   "metadata": {},
   "source": [
    " 2. What are the three different types of Boolean operators?"
   ]
  },
  {
   "cell_type": "code",
   "execution_count": 2,
   "id": "bbd47156",
   "metadata": {},
   "outputs": [
    {
     "data": {
      "text/plain": [
       "'The three different Boolean operators are ;\\n1. and\\n2. or\\n3. not '"
      ]
     },
     "execution_count": 2,
     "metadata": {},
     "output_type": "execute_result"
    }
   ],
   "source": [
    "'''The three different Boolean operators are ;\n",
    "1. and\n",
    "2. or\n",
    "3. not '''"
   ]
  },
  {
   "cell_type": "markdown",
   "id": "3d2ee145",
   "metadata": {},
   "source": [
    "3. Make a list of each Boolean operator&#39;s truth tables (i.e. every possible combination of Boolean\n",
    "values for the operator and what it evaluate ). "
   ]
  },
  {
   "cell_type": "code",
   "execution_count": 3,
   "id": "74e9d2d2",
   "metadata": {},
   "outputs": [
    {
     "name": "stdout",
     "output_type": "stream",
     "text": [
      "False\n",
      "True\n",
      "True\n",
      "False\n"
     ]
    }
   ],
   "source": [
    "# NOT Boolean operator\n",
    "x = False \n",
    "y = True\n",
    "print(x)\n",
    "print(y)\n",
    "print(not x)\n",
    "print(not y)"
   ]
  },
  {
   "cell_type": "code",
   "execution_count": 4,
   "id": "7e3f0a7b",
   "metadata": {},
   "outputs": [
    {
     "name": "stdout",
     "output_type": "stream",
     "text": [
      "True\n",
      "False\n",
      "False\n",
      "False\n"
     ]
    }
   ],
   "source": [
    "# AND boolean operator\n",
    "x = True\n",
    "y = False\n",
    "print(x and x)\n",
    "print(x and y)\n",
    "print(y and x)\n",
    "print(y and y)\n"
   ]
  },
  {
   "cell_type": "code",
   "execution_count": 5,
   "id": "d727eff1",
   "metadata": {},
   "outputs": [
    {
     "name": "stdout",
     "output_type": "stream",
     "text": [
      "True\n",
      "True\n",
      "True\n",
      "False\n"
     ]
    }
   ],
   "source": [
    "# OR Bolean operator\n",
    "x = True\n",
    "y = False\n",
    "print(x or x)\n",
    "print(x or y)\n",
    "print(y or x)\n",
    "print(y or y)"
   ]
  },
  {
   "cell_type": "markdown",
   "id": "8e7d8921",
   "metadata": {},
   "source": [
    "4. What are the values of the following expressions?\n",
    "(5 &gt; 4) and (3 == 5)\n",
    "not (5 &gt; 4)\n",
    "(5 &gt; 4) or (3 == 5)\n",
    "not ((5 &gt; 4) or (3 == 5))\n",
    "(True and True) and (True == False)\n",
    "(not False) or (not True)"
   ]
  },
  {
   "cell_type": "code",
   "execution_count": 6,
   "id": "2f26ce44",
   "metadata": {},
   "outputs": [
    {
     "name": "stdout",
     "output_type": "stream",
     "text": [
      "False\n",
      "False\n",
      "True\n",
      "False\n",
      "False\n",
      "True\n"
     ]
    }
   ],
   "source": [
    "print((5 > 4) and (3 == 5))\n",
    "print(not (5 > 4))\n",
    "print((5 > 4) or (3 == 5))\n",
    "print(not ((5 > 4) or (3 == 5)))\n",
    "print((True and True) and (True == False))\n",
    "print((not False) or (not True))\n",
    "# The values of the following expressions are False, False, True, False, False, True"
   ]
  },
  {
   "cell_type": "markdown",
   "id": "e662839f",
   "metadata": {},
   "source": [
    "5. What are the six comparison operators? "
   ]
  },
  {
   "cell_type": "code",
   "execution_count": 7,
   "id": "1895d758",
   "metadata": {},
   "outputs": [],
   "source": [
    "# There are six comparision operators they are:\n",
    "# 1. <     (less than)\n",
    "# 2. >     (greater than)\n",
    "# 3. < =   (less than equal to )\n",
    "# 4. > =   (greater than equal to)\n",
    "# 5. ==    (equal equal to)\n",
    "# 6. !=    (not equal to)"
   ]
  },
  {
   "cell_type": "markdown",
   "id": "59a71a5c",
   "metadata": {},
   "source": [
    "6. How do you tell the difference between the equal to and assignment operators?Describe a condition and when you would use one."
   ]
  },
  {
   "cell_type": "code",
   "execution_count": 8,
   "id": "b6f609f9",
   "metadata": {},
   "outputs": [
    {
     "name": "stdout",
     "output_type": "stream",
     "text": [
      "20\n"
     ]
    }
   ],
   "source": [
    "# Difference b/w equal to and assignment operators.\n",
    "'''Equal to (=) is used to assign the values to the right side of the variable.\n",
    "where as , the assignment operators is used in the expression b/w operands and literals.'''\n",
    "# for example ; \n",
    "a = 10    # here the value 10 is assigning to the variable \"a\" with the help of equal to (=)\n",
    "\n",
    "a += 10   # here the with the help of assignment operator we are able to do operation\n",
    "print(a)\n",
    "\n"
   ]
  },
  {
   "cell_type": "markdown",
   "id": "635cc655",
   "metadata": {},
   "source": [
    "7. Identify the three blocks in this code:\n",
    "spam = 0\n",
    "if spam == 10:\n",
    "print(\"eggs\")\n",
    "if spam == 5:\n",
    "print(\"bacon\")\n",
    "else:\n",
    "print(\"ham\")\n",
    "print(\"spam\")\n",
    "print(\"spam\") "
   ]
  },
  {
   "cell_type": "code",
   "execution_count": 9,
   "id": "fb64c66a",
   "metadata": {},
   "outputs": [],
   "source": [
    "# The three blocks in this code is ;\n",
    "# 1. if block.\n",
    "# 2. nested if block\n",
    "# 3. else block"
   ]
  },
  {
   "cell_type": "markdown",
   "id": "8c63f483",
   "metadata": {},
   "source": [
    "8. Write code that prints Hello if 1 is stored in spam, prints Howdy if 2 is stored in spam, and prints\n",
    "Greetings! if anything else is stored in spam."
   ]
  },
  {
   "cell_type": "code",
   "execution_count": 10,
   "id": "a2341959",
   "metadata": {},
   "outputs": [
    {
     "name": "stdout",
     "output_type": "stream",
     "text": [
      "Hello\n",
      "Howdy\n",
      "Greetings!\n"
     ]
    }
   ],
   "source": [
    "spam = [1,2,3,4,5]\n",
    "if 1 in spam :\n",
    "    print(\"Hello\")\n",
    "    if 2 in spam :\n",
    "        print(\"Howdy\")\n",
    "        if 3 in spam :\n",
    "            print(\"Greetings!\")\n",
    "else: \n",
    "    print(\"Go and ask doubt to sudanshu sir!\")\n"
   ]
  },
  {
   "cell_type": "markdown",
   "id": "3b56c53f",
   "metadata": {},
   "source": [
    " 9.If your programme is stuck in an endless loop, what keys you’ll press?"
   ]
  },
  {
   "cell_type": "code",
   "execution_count": 11,
   "id": "c9f70230",
   "metadata": {},
   "outputs": [],
   "source": [
    "# If my programme is stuck in an endless loop then i will press \"CTRL + C\""
   ]
  },
  {
   "cell_type": "markdown",
   "id": "4b991174",
   "metadata": {},
   "source": [
    "10. How can you tell the difference between break and continue? "
   ]
  },
  {
   "cell_type": "code",
   "execution_count": 12,
   "id": "3d37c877",
   "metadata": {},
   "outputs": [
    {
     "data": {
      "text/plain": [
       "'continue is also a python reserved key word which is used run the current iteratio. In a for loop if any statement is false then\\nthe interpreter stops there it will not go to the next line by using the continue we can run the next line of code.'"
      ]
     },
     "execution_count": 12,
     "metadata": {},
     "output_type": "execute_result"
    }
   ],
   "source": [
    "# break is the python reserved key word which is used to break a loop or it will terminate the loop\n",
    "'''continue is also a python reserved key word which is used run the current iteratio. In a for loop if any statement is false then\n",
    "the interpreter stops there it will not go to the next line by using the continue we can run the next line of code.'''"
   ]
  },
  {
   "cell_type": "markdown",
   "id": "1872155e",
   "metadata": {},
   "source": [
    "11. In a for loop, what is the difference between range(10), range(0, 10), and range(0, 10, 1)? "
   ]
  },
  {
   "cell_type": "code",
   "execution_count": 13,
   "id": "5daea581",
   "metadata": {},
   "outputs": [
    {
     "name": "stdout",
     "output_type": "stream",
     "text": [
      "0\n",
      "1\n",
      "2\n",
      "3\n",
      "4\n",
      "5\n",
      "6\n",
      "7\n",
      "8\n",
      "9\n"
     ]
    }
   ],
   "source": [
    "for i in range(10): \n",
    "    print(i)"
   ]
  },
  {
   "cell_type": "code",
   "execution_count": 14,
   "id": "9325daa8",
   "metadata": {},
   "outputs": [
    {
     "name": "stdout",
     "output_type": "stream",
     "text": [
      "0\n",
      "1\n",
      "2\n",
      "3\n",
      "4\n",
      "5\n",
      "6\n",
      "7\n",
      "8\n",
      "9\n"
     ]
    }
   ],
   "source": [
    "for i in range(0,10): \n",
    "    print(i)"
   ]
  },
  {
   "cell_type": "code",
   "execution_count": 15,
   "id": "03d72343",
   "metadata": {},
   "outputs": [
    {
     "name": "stdout",
     "output_type": "stream",
     "text": [
      "0\n",
      "1\n",
      "2\n",
      "3\n",
      "4\n",
      "5\n",
      "6\n",
      "7\n",
      "8\n",
      "9\n"
     ]
    }
   ],
   "source": [
    "for i in range(0,10,1): \n",
    "    print(i)"
   ]
  },
  {
   "cell_type": "code",
   "execution_count": 16,
   "id": "5340af73",
   "metadata": {},
   "outputs": [],
   "source": [
    "# here there is no difference in range(10), range(0,10), range(0,10,1) the output is same for all that.\n",
    "# range(10) is the generator which gives the values of 0 to 9 excluding upper bound\n",
    "# range (0,10) this is also the generator here 0 represents the starting point and 10 represents the ending point.\n",
    "# range (0,10,1) in this 0 is the starting point, 10 is the ending point, and 1 is the jump size of the number"
   ]
  },
  {
   "cell_type": "markdown",
   "id": "ab957ff5",
   "metadata": {},
   "source": [
    "12. Write a short program that prints the numbers 1 to 10 using a for loop. Then write an equivalent\n",
    "program that prints the numbers 1 to 10 using a while loop. "
   ]
  },
  {
   "cell_type": "code",
   "execution_count": 17,
   "id": "c727c6ab",
   "metadata": {},
   "outputs": [
    {
     "name": "stdout",
     "output_type": "stream",
     "text": [
      "1\n",
      "2\n",
      "3\n",
      "4\n",
      "5\n",
      "6\n",
      "7\n",
      "8\n",
      "9\n",
      "10\n"
     ]
    }
   ],
   "source": [
    "# numbers 1 to 10 using for loop\n",
    "for i in range(1,11):\n",
    "    print(i)"
   ]
  },
  {
   "cell_type": "code",
   "execution_count": 20,
   "id": "9dc7e43c",
   "metadata": {},
   "outputs": [
    {
     "name": "stdout",
     "output_type": "stream",
     "text": [
      "1\n",
      "2\n",
      "3\n",
      "4\n",
      "5\n",
      "6\n",
      "7\n",
      "8\n",
      "9\n",
      "10\n"
     ]
    }
   ],
   "source": [
    "# numbers 1 to 10 using while loop\n",
    "n = 1\n",
    "while(n<=10):\n",
    "    print(n)\n",
    "    n+=1"
   ]
  },
  {
   "cell_type": "markdown",
   "id": "96595da3",
   "metadata": {},
   "source": [
    "13. If you had a function named bacon() inside a module named spam, how would you call it after\n",
    "importing spam?"
   ]
  },
  {
   "cell_type": "code",
   "execution_count": null,
   "id": "b199d3c5",
   "metadata": {},
   "outputs": [],
   "source": [
    "from spam import bacon\n",
    "bacon()"
   ]
  },
  {
   "cell_type": "code",
   "execution_count": null,
   "id": "82f2a228",
   "metadata": {},
   "outputs": [],
   "source": []
  }
 ],
 "metadata": {
  "kernelspec": {
   "display_name": "Python 3 (ipykernel)",
   "language": "python",
   "name": "python3"
  },
  "language_info": {
   "codemirror_mode": {
    "name": "ipython",
    "version": 3
   },
   "file_extension": ".py",
   "mimetype": "text/x-python",
   "name": "python",
   "nbconvert_exporter": "python",
   "pygments_lexer": "ipython3",
   "version": "3.9.7"
  }
 },
 "nbformat": 4,
 "nbformat_minor": 5
}
