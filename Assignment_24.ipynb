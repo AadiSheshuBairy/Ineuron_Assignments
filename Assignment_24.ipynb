{
 "cells": [
  {
   "cell_type": "code",
   "execution_count": null,
   "id": "5c768c4d",
   "metadata": {},
   "outputs": [],
   "source": [
    "'''1. What is the relationship between def statements and lambda expressions ?\n",
    "Ans: def statement is used to create a normal function. where as lamba expressions are used to create Anonymous functions.\n",
    "    which can be assigned to a variable and can be called using the variable later in function.'''"
   ]
  },
  {
   "cell_type": "code",
   "execution_count": null,
   "id": "84129c2c",
   "metadata": {},
   "outputs": [],
   "source": [
    "'''2. What is the benefit of lambda?\n",
    "Ans: Can be used to create Nameless/Anonymous functions inside some complex functions if we are planning to\n",
    "use it only once. Moderate to small functions can be created in a single line Fuctions created using lambda \n",
    "expressions can be assigned to a variable and can be used by simply calling the variable'''\n"
   ]
  },
  {
   "cell_type": "code",
   "execution_count": null,
   "id": "952a68d5",
   "metadata": {},
   "outputs": [],
   "source": [
    "'''3. Compare and contrast map, filter, and reduce.\n",
    "Ans: The differences between map, filter and reduce are: map(): The map() function is a type of higher-order. \n",
    "This function takes another function as a parameter along with a sequence of iterables and returns an output \n",
    "after applying the function to each iterable present in the sequence.\n",
    "\n",
    "filter(): The filter() function is used to create an output list consisting of \n",
    "values for which the function returns true.\n",
    "\n",
    "reduce(): The reduce() function, as the name describes, applies a given function to the iterables\n",
    "and returns a single value'''\n",
    "\n",
    "from functools import reduce\n",
    "# map function\n",
    "print('Map ->',list(map(lambda x:x+x, [1,2,3,4])))\n",
    "# fitler function\n",
    "print('Filter ->',list(filter(lambda x:x%2 !=0, [1,2,3,4])))\n",
    "# reduce function\n",
    "print('Reduce ->',reduce(lambda x,y:x+y, [1,2,3,4,5,6]))\n",
    "Map -> [2, 4, 6, 8]\n",
    "Filter -> [1, 3]\n",
    "Reduce -> 21"
   ]
  },
  {
   "cell_type": "code",
   "execution_count": null,
   "id": "5a2c8cda",
   "metadata": {},
   "outputs": [],
   "source": [
    "'''4. What are function annotations, and how are they used?\n",
    "Ans: Function annotations provide a way of associating various parts of a function with arbitrary pythoncexpressions \n",
    "at compile time. Annotations of simple parameters def func(x: expression, y: expression = 20): Whereas the annotations\n",
    "for excess parameters are as − def func (args: expression, kwargs: expression):'''\n"
   ]
  },
  {
   "cell_type": "code",
   "execution_count": null,
   "id": "c56b7040",
   "metadata": {},
   "outputs": [],
   "source": [
    "'''5. What are recursive functions, and how are they used?\n",
    "Ans: A recursive function is a function that calls itself during its execution. The process may repeat several times,\n",
    "outputting the result and the end of each iteration.\n"
   ]
  },
  {
   "cell_type": "code",
   "execution_count": null,
   "id": "057611f9",
   "metadata": {},
   "outputs": [],
   "source": [
    "'''6.try to u6. What are some general design guidelines for coding functions?\n",
    "Ans: 1.always use a docstring to explain the functionality of the function\n",
    "\n",
    "2.avoid using or limited use of global variables\n",
    "\n",
    "3.Proper Identation to increase the code readability\n",
    "\n",
    "4.try to follow a naming convention for function names (pascalCase or camelCase) and stick with the same \n",
    "convention throughout the application.\n",
    "\n",
    "5.Avoid using digits while choosing a variable name\n",
    "\n",
    "6.try to use a name for the function which conveys the purpose of the function\n",
    "\n",
    "7.Local variables should be named using camelCase format (ex: localVariable) whereas\n",
    "Global variables names should be using PascalCase (ex:GlobalVariable).\n",
    "\n",
    "8.Constant should be represented in allcaps (ex:CONSTANT).\n",
    "se a name for the function which conveys the purpose of the function'''\n"
   ]
  },
  {
   "cell_type": "code",
   "execution_count": null,
   "id": "7d6c75d2",
   "metadata": {},
   "outputs": [],
   "source": [
    "'''7. Name three or more ways that functions can communicate results to a caller.\n",
    "Ans: Some of the ways in which a function can communicate with the calling function is:'''\n",
    "\n",
    "   print\n",
    "   return\n",
    "   yieldc"
   ]
  }
 ],
 "metadata": {
  "kernelspec": {
   "display_name": "Python 3 (ipykernel)",
   "language": "python",
   "name": "python3"
  },
  "language_info": {
   "codemirror_mode": {
    "name": "ipython",
    "version": 3
   },
   "file_extension": ".py",
   "mimetype": "text/x-python",
   "name": "python",
   "nbconvert_exporter": "python",
   "pygments_lexer": "ipython3",
   "version": "3.9.7"
  }
 },
 "nbformat": 4,
 "nbformat_minor": 5
}
