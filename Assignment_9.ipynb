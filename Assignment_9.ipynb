{
 "cells": [
  {
   "cell_type": "code",
   "execution_count": 5,
   "id": "d669aa09",
   "metadata": {},
   "outputs": [
    {
     "data": {
      "text/plain": [
       "'C:\\\\Users\\\\Shivanand\\\\Downloads\\\\Assignment_6.ipynb'"
      ]
     },
     "execution_count": 5,
     "metadata": {},
     "output_type": "execute_result"
    }
   ],
   "source": [
    "'''1. To what does a relative path refer?\n",
    "relative path shows current working directory path\n",
    "\n",
    "for me it is: Python Basic Assignments\\Assignment_9.ipynb'''\n",
    "\n",
    "import os\n",
    "path = 'C:/Users/Shivanand/Downloads/Assignment_6.ipynb'\n",
    "os.path.realpath(path)"
   ]
  },
  {
   "cell_type": "code",
   "execution_count": null,
   "id": "419b49fa",
   "metadata": {},
   "outputs": [],
   "source": [
    "2. What does an absolute path start with your operating system?\n",
    "absolute path = pwd + relative path\n",
    "\n",
    "absolute path always starts with rootdi directory\n",
    "\n",
    "os.path.abspath(path)"
   ]
  },
  {
   "cell_type": "code",
   "execution_count": null,
   "id": "bc12c342",
   "metadata": {},
   "outputs": [],
   "source": [
    "3. What do the functions os.getcwd() and os.chdir() do?\n",
    "os.chdir() performs change directory\n",
    "\n",
    "os.getcwd() gives current working directory"
   ]
  },
  {
   "cell_type": "code",
   "execution_count": null,
   "id": "48b8ae72",
   "metadata": {},
   "outputs": [],
   "source": [
    "4. What are the . and .. folders?\n",
    "these are not real folder but are special names for path\n",
    "\n",
    "(.) = this directory\n",
    "(..)= parent directory"
   ]
  },
  {
   "cell_type": "code",
   "execution_count": null,
   "id": "f0217d01",
   "metadata": {},
   "outputs": [],
   "source": [
    "5. In C:\\bacon\\eggs\\spam.txt, which part is the dir name, and which part is the base name?\n",
    "C:\\bacon\\eggs --> dir name\n",
    "\n",
    "spam.txt --> base name"
   ]
  },
  {
   "cell_type": "code",
   "execution_count": null,
   "id": "24c44a20",
   "metadata": {},
   "outputs": [],
   "source": [
    "6. What are the three “mode” arguments that can be passed to the open() function?\n",
    "Three mode arguments are:\n",
    "\n",
    "1. 'r' --> open for reading in text mode.\n",
    "2. 'w' --> open for writing.\n",
    "3. 'a' --> open for appending."
   ]
  },
  {
   "cell_type": "code",
   "execution_count": null,
   "id": "99e642eb",
   "metadata": {},
   "outputs": [],
   "source": [
    "7. What happens if an existing file is opened in write mode?\n",
    "when an existing file is opened in write mode previous content is erased and file is treated as new empty file."
   ]
  },
  {
   "cell_type": "code",
   "execution_count": null,
   "id": "15a58362",
   "metadata": {},
   "outputs": [],
   "source": [
    "8. How do you tell the difference between read() and readlines()?\n",
    "read() --> it iterates over each character.\n",
    "\n",
    "readlines() --> read only single line of the file."
   ]
  },
  {
   "cell_type": "code",
   "execution_count": null,
   "id": "0f212700",
   "metadata": {},
   "outputs": [],
   "source": [
    "9. What data structure does a shelf value resemble?\n",
    "#Ans: dictionary."
   ]
  }
 ],
 "metadata": {
  "kernelspec": {
   "display_name": "Python 3 (ipykernel)",
   "language": "python",
   "name": "python3"
  },
  "language_info": {
   "codemirror_mode": {
    "name": "ipython",
    "version": 3
   },
   "file_extension": ".py",
   "mimetype": "text/x-python",
   "name": "python",
   "nbconvert_exporter": "python",
   "pygments_lexer": "ipython3",
   "version": "3.9.7"
  }
 },
 "nbformat": 4,
 "nbformat_minor": 5
}
