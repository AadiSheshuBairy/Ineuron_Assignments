{
 "cells": [
  {
   "cell_type": "code",
   "execution_count": null,
   "id": "9e98df89",
   "metadata": {},
   "outputs": [],
   "source": [
    "\n",
    "1. To what does a relative path refer?\n",
    "relative path shows current working directory path\n",
    "\n",
    "for me it is: Python Basic Assignments\\Assignment_9.ipynb\n",
    "\n",
    "import os\n",
    "path = 'E:\\data science\\ineuron full stack DS\\Assignments\\PythonBasicAssignments\\Assignment_p.ipynb'\n",
    "os.path.realpath(path)\n",
    "'E:\\\\data science\\\\ineuron full stack DS\\\\Assignments\\\\PythonBasicAssignments\\\\Assignment_p.ipynb'\n",
    "2. What does an absolute path start with your operating system?\n",
    "absolute path = pwd + relative path\n",
    "\n",
    "absolute path always starts with rootdi directory\n",
    "\n",
    "os.path.abspath(path)\n",
    "'E:\\\\data science\\\\ineuron full stack DS\\\\Assignments\\\\PythonBasicAssignments\\\\Assignment_p.ipynb'\n",
    "3. What do the functions os.getcwd() and os.chdir() do?\n",
    "os.chdir() performs change directory\n",
    "\n",
    "os.getcwd() gives current working directory\n",
    "\n",
    "4. What are the . and .. folders?\n",
    "these are not real folder but are special names for path\n",
    "\n",
    "(.) = this directory\n",
    "(..)= parent directory\n",
    "5. In C:\\bacon\\eggs\\spam.txt, which part is the dir name, and which part is the base name?\n",
    "C:\\bacon\\eggs --> dir name\n",
    "\n",
    "spam.txt --> base name\n",
    "\n",
    "6. What are the three “mode” arguments that can be passed to the open() function?\n",
    "Three mode arguments are:\n",
    "\n",
    "1. 'r' --> open for reading in text mode.\n",
    "2. 'w' --> open for writing.\n",
    "3. 'a' --> open for appending.\n",
    "7. What happens if an existing file is opened in write mode?\n",
    "when an existing file is opened in write mode previous content is erased and file is treated as new empty file.\n",
    "\n",
    "8. How do you tell the difference between read() and readlines()?\n",
    "read() --> it iterates over each character.\n",
    "\n",
    "readlines() --> read only single line of the file.\n",
    "\n",
    "9. What data structure does a shelf value resemble?\n",
    "dictionary.\n",
    "\n",
    " \n",
    " "
   ]
  },
  {
   "cell_type": "code",
   "execution_count": 5,
   "id": "37838cad",
   "metadata": {},
   "outputs": [
    {
     "data": {
      "text/plain": [
       "'C:\\\\Users\\\\Shivanand\\\\Downloads\\\\Assignment_6.ipynb'"
      ]
     },
     "execution_count": 5,
     "metadata": {},
     "output_type": "execute_result"
    }
   ],
   "source": [
    "'''1. To what does a relative path refer?\n",
    "relative path shows current working directory path\n",
    "\n",
    "for me it is: Python Basic Assignments\\Assignment_9.ipynb'''\n",
    "\n",
    "import os\n",
    "path = 'C:/Users/Shivanand/Downloads/Assignment_6.ipynb'\n",
    "os.path.realpath(path)"
   ]
  },
  {
   "cell_type": "code",
   "execution_count": null,
   "id": "4fbbe798",
   "metadata": {},
   "outputs": [],
   "source": [
    "2. What does an absolute path start with your operating system?\n",
    "absolute path = pwd + relative path\n",
    "\n",
    "absolute path always starts with rootdi directory\n",
    "\n",
    "os.path.abspath(path)"
   ]
  },
  {
   "cell_type": "code",
   "execution_count": null,
   "id": "8d1db53f",
   "metadata": {},
   "outputs": [],
   "source": [
    "3. What do the functions os.getcwd() and os.chdir() do?\n",
    "os.chdir() performs change directory\n",
    "\n",
    "os.getcwd() gives current working directory"
   ]
  },
  {
   "cell_type": "code",
   "execution_count": null,
   "id": "616acf4b",
   "metadata": {},
   "outputs": [],
   "source": [
    "4. What are the . and .. folders?\n",
    "these are not real folder but are special names for path\n",
    "\n",
    "(.) = this directory\n",
    "(..)= parent directory"
   ]
  },
  {
   "cell_type": "code",
   "execution_count": null,
   "id": "9a0cdda2",
   "metadata": {},
   "outputs": [],
   "source": [
    "5. In C:\\bacon\\eggs\\spam.txt, which part is the dir name, and which part is the base name?\n",
    "C:\\bacon\\eggs --> dir name\n",
    "\n",
    "spam.txt --> base name"
   ]
  },
  {
   "cell_type": "code",
   "execution_count": null,
   "id": "0f051be7",
   "metadata": {},
   "outputs": [],
   "source": [
    "6. What are the three “mode” arguments that can be passed to the open() function?\n",
    "Three mode arguments are:\n",
    "\n",
    "1. 'r' --> open for reading in text mode.\n",
    "2. 'w' --> open for writing.\n",
    "3. 'a' --> open for appending."
   ]
  },
  {
   "cell_type": "code",
   "execution_count": null,
   "id": "c1075749",
   "metadata": {},
   "outputs": [],
   "source": [
    "7. What happens if an existing file is opened in write mode?\n",
    "when an existing file is opened in write mode previous content is erased and file is treated as new empty file."
   ]
  },
  {
   "cell_type": "code",
   "execution_count": null,
   "id": "959e9e96",
   "metadata": {},
   "outputs": [],
   "source": [
    "8. How do you tell the difference between read() and readlines()?\n",
    "read() --> it iterates over each character.\n",
    "\n",
    "readlines() --> read only single line of the file."
   ]
  },
  {
   "cell_type": "code",
   "execution_count": null,
   "id": "b1af895b",
   "metadata": {},
   "outputs": [],
   "source": [
    "9. What data structure does a shelf value resemble?\n",
    "#Ans: dictionary."
   ]
  }
 ],
 "metadata": {
  "kernelspec": {
   "display_name": "Python 3 (ipykernel)",
   "language": "python",
   "name": "python3"
  },
  "language_info": {
   "codemirror_mode": {
    "name": "ipython",
    "version": 3
   },
   "file_extension": ".py",
   "mimetype": "text/x-python",
   "name": "python",
   "nbconvert_exporter": "python",
   "pygments_lexer": "ipython3",
   "version": "3.9.7"
  }
 },
 "nbformat": 4,
 "nbformat_minor": 5
}
